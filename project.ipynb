{
 "cells": [
  {
   "cell_type": "code",
   "execution_count": 2,
   "metadata": {},
   "outputs": [],
   "source": [
    "import numpy as np\n",
    "from sklearn.model_selection import train_test_split\n",
    "from scipy.signal import butter, lfilter\n",
    "from sklearn.discriminant_analysis import LinearDiscriminantAnalysis\n",
    "from sklearn.metrics import accuracy_score, confusion_matrix"
   ]
  },
  {
   "cell_type": "code",
   "execution_count": 3,
   "metadata": {},
   "outputs": [
    {
     "name": "stdout",
     "output_type": "stream",
     "text": [
      "Raw shape of train_cnt: (17792, 3000)\n"
     ]
    }
   ],
   "source": [
    "train_cnt_file = \"train/Competition_train_cnt.txt\"\n",
    "train_lab_file = \"train/Competition_train_lab.txt\"\n",
    "\n",
    "train_cnt = np.loadtxt(train_cnt_file)\n",
    "Y_train = np.loadtxt(train_lab_file)\n",
    "\n",
    "print(\"Raw shape of train_cnt:\", train_cnt.shape)\n"
   ]
  },
  {
   "cell_type": "code",
   "execution_count": 4,
   "metadata": {},
   "outputs": [
    {
     "name": "stdout",
     "output_type": "stream",
     "text": [
      "X_train final shape: (278, 64, 3000)\n",
      "Y_train shape: (278,)\n"
     ]
    }
   ],
   "source": [
    "n_trials_train = 278\n",
    "n_channels = 64\n",
    "n_samples = 3000\n",
    "\n",
    "X_train = train_cnt.reshape(n_trials_train, n_channels, n_samples)\n",
    "\n",
    "print(\"X_train final shape:\", X_train.shape)\n",
    "print(\"Y_train shape:\", Y_train.shape)"
   ]
  },
  {
   "cell_type": "code",
   "execution_count": 5,
   "metadata": {},
   "outputs": [
    {
     "name": "stdout",
     "output_type": "stream",
     "text": [
      "Raw shape of test_cnt: (6400, 3000)\n"
     ]
    }
   ],
   "source": [
    "test_file = \"test.txt\"\n",
    "test_label_file = \"data/test/test_label.txt\"\n",
    "\n",
    "test_cnt = np.loadtxt(test_file)\n",
    "Y_test = np.loadtxt(test_label_file)\n",
    "\n",
    "print(\"Raw shape of test_cnt:\", test_cnt.shape)"
   ]
  },
  {
   "cell_type": "code",
   "execution_count": 6,
   "metadata": {},
   "outputs": [
    {
     "name": "stdout",
     "output_type": "stream",
     "text": [
      "test final shape: (100, 64, 3000)\n"
     ]
    }
   ],
   "source": [
    "n_trials_test = 100\n",
    "X_test = test_cnt.reshape(n_trials_test, n_channels, n_samples)\n",
    "\n",
    "print(\"test final shape:\", X_test.shape)"
   ]
  },
  {
   "cell_type": "code",
   "execution_count": 7,
   "metadata": {},
   "outputs": [
    {
     "name": "stdout",
     "output_type": "stream",
     "text": [
      "Train Set Shape: (222, 64, 3000) (222,)\n",
      "Validation Set Shape: (56, 64, 3000) (56,)\n"
     ]
    }
   ],
   "source": [
    "X_train, X_val, Y_train, Y_val = train_test_split(X_train, Y_train, test_size=0.2, random_state=42)\n",
    "\n",
    "print(\"Train Set Shape:\", X_train.shape, Y_train.shape)\n",
    "print(\"Validation Set Shape:\", X_val.shape, Y_val.shape)"
   ]
  },
  {
   "cell_type": "code",
   "execution_count": 8,
   "metadata": {},
   "outputs": [],
   "source": [
    "def bandpass_filter(data, lowcut=8, highcut=30, fs=1000, order=5):\n",
    "    \"\"\"\n",
    "    Apply a bandpass filter to the input data.\n",
    "\n",
    "    Parameters:\n",
    "        data (ndarray): EEG/ECoG data of shape (trials, channels, samples)\n",
    "        lowcut (float): Lower cutoff frequency (default: 8 Hz)\n",
    "        highcut (float): Upper cutoff frequency (default: 30 Hz)\n",
    "        fs (int): Sampling frequency (default: 1000 Hz)\n",
    "        order (int): Order of the filter (default: 5)\n",
    "\n",
    "    Returns:\n",
    "        ndarray: Filtered data (same shape as input)\n",
    "    \"\"\"\n",
    "    nyquist = 0.5 * fs\n",
    "    low = lowcut / nyquist\n",
    "    high = highcut / nyquist\n",
    "    b, a = butter(order, [low, high], btype='band')\n",
    "\n",
    "    filtered_data = lfilter(b, a, data, axis=-1)\n",
    "    return filtered_data\n"
   ]
  },
  {
   "cell_type": "code",
   "execution_count": 9,
   "metadata": {},
   "outputs": [],
   "source": [
    "X_train_filt = bandpass_filter(X_train)\n",
    "X_val_filt = bandpass_filter(X_val)\n",
    "X_test_filt = bandpass_filter(X_test)"
   ]
  },
  {
   "cell_type": "markdown",
   "metadata": {},
   "source": [
    "## Classic CSP"
   ]
  },
  {
   "cell_type": "code",
   "execution_count": 10,
   "metadata": {},
   "outputs": [],
   "source": [
    "def compute_covariance(trial_data):\n",
    "    \"\"\"\n",
    "    Compute the covariance matrix for a given trial.\n",
    "    \n",
    "    Parameters:\n",
    "        trial_data (ndarray): Shape (channels, samples)\n",
    "    \n",
    "    Returns:\n",
    "        ndarray: Covariance matrix (channels x channels)\n",
    "    \"\"\"\n",
    "    return np.cov(trial_data)\n",
    "\n",
    "def csp_fit(X, y, n_components=3):\n",
    "    \"\"\"\n",
    "    Fit CSP spatial filters.\n",
    "\n",
    "    Parameters:\n",
    "        X (ndarray): Shape (trials, channels, samples)\n",
    "        y (ndarray): Labels (-1 or 1), shape (trials,)\n",
    "        n_components (int): Number of CSP components to retain per class\n",
    "\n",
    "    Returns:\n",
    "        ndarray: CSP spatial filters (channels, 2 * n_components)\n",
    "    \"\"\"\n",
    "\n",
    "    X_class1 = X[y == -1]\n",
    "    X_class2 = X[y == 1]\n",
    "\n",
    "    cov_class1 = np.mean([compute_covariance(x) for x in X_class1], axis=0)\n",
    "    cov_class2 = np.mean([compute_covariance(x) for x in X_class2], axis=0)\n",
    "\n",
    "    from scipy.linalg import eigh\n",
    "    w, v = eigh(cov_class1, cov_class2)\n",
    "\n",
    "    idx = np.argsort(w)[::-1]\n",
    "    v = v[:, idx]\n",
    "    filters = np.hstack([v[:, :n_components], v[:, -n_components:]])\n",
    "    \n",
    "    return filters\n",
    "\n",
    "def csp_transform(X, filters):\n",
    "    \"\"\"\n",
    "    Apply CSP transformation to extract log-variance features.\n",
    "\n",
    "    Parameters:\n",
    "        X (ndarray): Shape (trials, channels, samples)\n",
    "        filters (ndarray): CSP spatial filters (channels, 2*n_components)\n",
    "\n",
    "    Returns:\n",
    "        ndarray: CSP features (trials, 2*n_components)\n",
    "    \"\"\"\n",
    "    n_trials, _, _ = X.shape\n",
    "    n_filters = filters.shape[1]\n",
    "    features = np.zeros((n_trials, n_filters))\n",
    "\n",
    "    for i in range(n_trials):\n",
    "        projected = filters.T @ X[i] \n",
    "        var = np.var(projected, axis=1)\n",
    "        features[i, :] = np.log(var)\n",
    "\n",
    "    return features\n"
   ]
  },
  {
   "cell_type": "code",
   "execution_count": 11,
   "metadata": {},
   "outputs": [
    {
     "name": "stdout",
     "output_type": "stream",
     "text": [
      "Validation Accuracy: 0.8929\n"
     ]
    }
   ],
   "source": [
    "csp_filters = csp_fit(X_train_filt, Y_train, n_components=3)\n",
    "\n",
    "X_train_csp = csp_transform(X_train_filt, csp_filters)\n",
    "X_val_csp = csp_transform(X_val_filt, csp_filters)\n",
    "X_test_csp = csp_transform(X_test_filt, csp_filters)\n",
    "\n",
    "clf = LinearDiscriminantAnalysis()\n",
    "clf.fit(X_train_csp, Y_train)\n",
    "\n",
    "pred_val = clf.predict(X_val_csp)\n",
    "acc_val = accuracy_score(Y_val, pred_val)\n",
    "print(f\"Validation Accuracy: {acc_val:.4f}\")\n"
   ]
  },
  {
   "cell_type": "code",
   "execution_count": 12,
   "metadata": {},
   "outputs": [
    {
     "name": "stdout",
     "output_type": "stream",
     "text": [
      "No Adaptation Test Accuracy: 0.7600\n",
      "Confusion Matrix (No Adaptation):\n",
      "[[50  0]\n",
      " [24 26]]\n"
     ]
    }
   ],
   "source": [
    "pred_noadapt = clf.predict(X_test_csp)\n",
    "\n",
    "acc_noadapt = accuracy_score(Y_test, pred_noadapt)\n",
    "print(f\"No Adaptation Test Accuracy: {acc_noadapt:.4f}\")\n",
    "\n",
    "print(\"Confusion Matrix (No Adaptation):\")\n",
    "print(confusion_matrix(Y_test, pred_noadapt))\n"
   ]
  },
  {
   "cell_type": "markdown",
   "metadata": {},
   "source": [
    "## CORAL"
   ]
  },
  {
   "cell_type": "code",
   "execution_count": 13,
   "metadata": {},
   "outputs": [],
   "source": [
    "def coral_transform(X_train, X_test):\n",
    "    \"\"\"\n",
    "    Apply CORAL adaptation to align train and test feature distributions.\n",
    "\n",
    "    Parameters:\n",
    "        X_train (ndarray): Training CSP features, shape (trials, features)\n",
    "        X_test (ndarray): Test CSP features, shape (trials, features)\n",
    "\n",
    "    Returns:\n",
    "        X_test_aligned (ndarray): Adapted test CSP features\n",
    "    \"\"\"\n",
    "    # Compute covariance matrices\n",
    "    cov_train = np.cov(X_train.T)  # (features, features)\n",
    "    cov_test = np.cov(X_test.T)    # (features, features)\n",
    "\n",
    "    # Solve eigenvalue decomposition\n",
    "    d_train, v_train = np.linalg.eigh(cov_train)\n",
    "    d_test, v_test = np.linalg.eigh(cov_test)\n",
    "\n",
    "    # Regularize (avoid zero division)\n",
    "    d_train[d_train < 1e-5] = 1e-5\n",
    "    d_test[d_test < 1e-5] = 1e-5\n",
    "\n",
    "    # Compute whitening and re-coloring matrices\n",
    "    w_train = v_train @ np.diag(1.0 / np.sqrt(d_train)) @ v_train.T\n",
    "    w_test = v_test @ np.diag(np.sqrt(d_test)) @ v_test.T\n",
    "\n",
    "    # Align test features with train distribution\n",
    "    X_test_aligned = X_test @ w_test @ w_train\n",
    "    return X_test_aligned\n"
   ]
  },
  {
   "cell_type": "code",
   "execution_count": 14,
   "metadata": {},
   "outputs": [
    {
     "name": "stdout",
     "output_type": "stream",
     "text": [
      "CORAL Adaptation Test Accuracy: 0.8500\n"
     ]
    }
   ],
   "source": [
    "# Compute CSP features\n",
    "X_train_csp = csp_transform(X_train_filt, csp_filters)\n",
    "X_val_csp = csp_transform(X_val_filt, csp_filters)\n",
    "X_test_csp = csp_transform(X_test_filt, csp_filters)\n",
    "\n",
    "X_test_csp_adapted = coral_transform(X_train_csp, X_test_csp)\n",
    "\n",
    "from sklearn.discriminant_analysis import LinearDiscriminantAnalysis\n",
    "\n",
    "clf = LinearDiscriminantAnalysis()\n",
    "clf.fit(X_train_csp, Y_train)\n",
    "\n",
    "Y_pred_adapted = clf.predict(X_test_csp_adapted)\n",
    "\n",
    "from sklearn.metrics import accuracy_score\n",
    "acc_coral = accuracy_score(Y_test, Y_pred_adapted)\n",
    "print(f\"CORAL Adaptation Test Accuracy: {acc_coral:.4f}\")\n"
   ]
  },
  {
   "cell_type": "markdown",
   "metadata": {},
   "source": [
    "## TACNN"
   ]
  },
  {
   "cell_type": "code",
   "execution_count": 60,
   "metadata": {},
   "outputs": [],
   "source": [
    "# Define frequency bands (e.g., 4-8 Hz, 8-12 Hz, etc.)\n",
    "frequency_bands = [(4, 8), (8, 12), (12, 16), (16, 20), (20, 24), (24, 28), (28, 32), (32, 36), (36, 40)]\n",
    "\n",
    "# Apply bandpass filter for each frequency band\n",
    "X_train_filt = np.array([bandpass_filter(X_train, low, high, fs=1000) for (low, high) in frequency_bands])\n",
    "X_val_filt = np.array([bandpass_filter(X_val, low, high, fs=1000) for (low, high) in frequency_bands])\n",
    "X_test_filt = np.array([bandpass_filter(X_test, low, high, fs=1000) for (low, high) in frequency_bands])\n",
    "\n",
    "# Reshape to combine frequency bands\n",
    "# New shape: (trials, channels, samples, frequency_bands)\n",
    "X_train_filt = np.transpose(X_train_filt, (1, 2, 3, 0))\n",
    "X_val_filt = np.transpose(X_val_filt, (1, 2, 3, 0))\n",
    "X_test_filt = np.transpose(X_test_filt, (1, 2, 3, 0))\n"
   ]
  },
  {
   "cell_type": "code",
   "execution_count": 61,
   "metadata": {},
   "outputs": [],
   "source": [
    "def compute_covariance(trial_data, epsilon=1e-6):\n",
    "    \"\"\"\n",
    "    Compute the covariance matrix for a given trial while ensuring numerical stability.\n",
    "    \"\"\"\n",
    "    if trial_data.ndim == 3:\n",
    "        trial_data = trial_data[0]  # Ensure it's (channels, samples)\n",
    "    \n",
    "    if trial_data.shape[0] > trial_data.shape[1]:  \n",
    "        trial_data = trial_data.T  # Ensure (channels, samples) format\n",
    "\n",
    "    cov_matrix = np.cov(trial_data)\n",
    "\n",
    "    # Regularization: Avoid singular matrices\n",
    "    cov_matrix += epsilon * np.eye(cov_matrix.shape[0])\n",
    "\n",
    "    return cov_matrix\n",
    "\n"
   ]
  },
  {
   "cell_type": "code",
   "execution_count": 62,
   "metadata": {},
   "outputs": [],
   "source": [
    "def csp_transform(X, filters):\n",
    "    X = np.mean(X, axis=-1)  # Reduce frequency band dimension\n",
    "    n_trials, _, _ = X.shape\n",
    "    n_filters = filters.shape[1]\n",
    "    features = np.zeros((n_trials, n_filters))\n",
    "\n",
    "    for i in range(n_trials):\n",
    "        projected = filters.T @ X[i]\n",
    "        var = np.var(projected, axis=1)\n",
    "        features[i, :] = np.log(var)  # Log transform for normalization\n",
    "\n",
    "    return features"
   ]
  },
  {
   "cell_type": "code",
   "execution_count": 63,
   "metadata": {},
   "outputs": [],
   "source": [
    "from scipy.linalg import eigh\n",
    "def csp_fit(X, y, n_components=6):\n",
    "    \"\"\"\n",
    "    Compute CSP filters while handling missing classes.\n",
    "    \"\"\"\n",
    "    if X.ndim == 4:  # Reduce frequency bands dimension by averaging\n",
    "        X = np.mean(X, axis=-1)\n",
    "\n",
    "    # Separate trials by class\n",
    "    X_class1 = X[y == 0]  # Class 0 trials\n",
    "    X_class2 = X[y == 1]  # Class 1 trials\n",
    "\n",
    "    # Ensure that both classes have at least one trial\n",
    "    if len(X_class1) == 0 or len(X_class2) == 0:\n",
    "        raise ValueError(\"One of the classes is missing from the dataset!\")\n",
    "\n",
    "    # Compute mean covariance for each class\n",
    "    cov_class1 = np.mean([compute_covariance(trial) for trial in X_class1], axis=0)\n",
    "    cov_class2 = np.mean([compute_covariance(trial) for trial in X_class2], axis=0)\n",
    "\n",
    "    # Check for NaN or Inf values\n",
    "    if np.isnan(cov_class1).any() or np.isinf(cov_class1).any():\n",
    "        raise ValueError(\"cov_class1 contains NaN or Inf values!\")\n",
    "    if np.isnan(cov_class2).any() or np.isinf(cov_class2).any():\n",
    "        raise ValueError(\"cov_class2 contains NaN or Inf values!\")\n",
    "\n",
    "    # Solve the generalized eigenvalue problem\n",
    "    w, v = eigh(cov_class1, cov_class2)\n",
    "\n",
    "    # Sort eigenvalues in descending order\n",
    "    idx = np.argsort(np.abs(w))[::-1]\n",
    "    v = v[:, idx]\n",
    "\n",
    "    # Select top n CSP components\n",
    "    filters = np.hstack([v[:, :n_components], v[:, -n_components:]])\n",
    "\n",
    "    return filters\n"
   ]
  },
  {
   "cell_type": "code",
   "execution_count": 64,
   "metadata": {},
   "outputs": [],
   "source": [
    "X_train_csp = csp_transform(X_train_filt, csp_filters)\n",
    "X_val_csp = csp_transform(X_val_filt, csp_filters)\n",
    "X_test_csp = csp_transform(X_test_filt, csp_filters)\n",
    "\n",
    "# Reshape CSP features for CNN input\n",
    "X_train_csp = X_train_csp.reshape(X_train_csp.shape[0], X_train_csp.shape[1], 1, 1)\n",
    "X_val_csp = X_val_csp.reshape(X_val_csp.shape[0], X_val_csp.shape[1], 1, 1)\n",
    "X_test_csp = X_test_csp.reshape(X_test_csp.shape[0], X_test_csp.shape[1], 1, 1)"
   ]
  },
  {
   "cell_type": "code",
   "execution_count": 86,
   "metadata": {},
   "outputs": [
    {
     "name": "stderr",
     "output_type": "stream",
     "text": [
      "/opt/anaconda3/lib/python3.11/site-packages/keras/src/layers/convolutional/base_conv.py:107: UserWarning: Do not pass an `input_shape`/`input_dim` argument to a layer. When using Sequential models, prefer using an `Input(shape)` object as the first layer in the model instead.\n",
      "  super().__init__(activity_regularizer=activity_regularizer, **kwargs)\n"
     ]
    }
   ],
   "source": [
    "import tensorflow as tf\n",
    "from tensorflow.keras.models import Sequential\n",
    "from tensorflow.keras.layers import Conv1D, BatchNormalization, AveragePooling1D, Dropout, Flatten, Dense, Lambda\n",
    "\n",
    "# Define the TA-CSPNN model with correct input shape\n",
    "model = Sequential([\n",
    "    # Temporal Convolution (1D instead of 2D)\n",
    "    Conv1D(filters=8, kernel_size=3, padding='same', activation='relu', input_shape=(X_train_csp.shape[1], 1)),\n",
    "    BatchNormalization(),\n",
    "\n",
    "    # Non-linearity (Squared Activation Function)\n",
    "    Lambda(lambda x: tf.math.square(x)),  # Square activation function\n",
    "\n",
    "    # Average Pooling (1D instead of 2D)\n",
    "    AveragePooling1D(pool_size=2),\n",
    "    Dropout(0.3),\n",
    "\n",
    "    # Flatten and Fully Connected Layer\n",
    "    Flatten(name=\"feature_layer\"),\n",
    "    Dense(units=1, activation='sigmoid')  # Binary classification\n",
    "])\n",
    "\n",
    "# Compile the model\n",
    "model.compile(optimizer='adam', loss='binary_crossentropy', metrics=['accuracy'])\n",
    "\n"
   ]
  },
  {
   "cell_type": "code",
   "execution_count": 87,
   "metadata": {},
   "outputs": [],
   "source": [
    "early_stopping = tf.keras.callbacks.EarlyStopping(monitor='val_loss', patience=5, restore_best_weights=True)"
   ]
  },
  {
   "cell_type": "code",
   "execution_count": 92,
   "metadata": {},
   "outputs": [
    {
     "name": "stdout",
     "output_type": "stream",
     "text": [
      "Epoch 1/100\n",
      "\u001b[1m14/14\u001b[0m \u001b[32m━━━━━━━━━━━━━━━━━━━━\u001b[0m\u001b[37m\u001b[0m \u001b[1m0s\u001b[0m 4ms/step - accuracy: 0.5676 - loss: 0.7105 - val_accuracy: 0.4821 - val_loss: 0.8308\n",
      "Epoch 2/100\n",
      "\u001b[1m14/14\u001b[0m \u001b[32m━━━━━━━━━━━━━━━━━━━━\u001b[0m\u001b[37m\u001b[0m \u001b[1m0s\u001b[0m 2ms/step - accuracy: 0.5310 - loss: 0.8141 - val_accuracy: 0.4821 - val_loss: 0.8426\n",
      "Epoch 3/100\n",
      "\u001b[1m14/14\u001b[0m \u001b[32m━━━━━━━━━━━━━━━━━━━━\u001b[0m\u001b[37m\u001b[0m \u001b[1m0s\u001b[0m 2ms/step - accuracy: 0.6866 - loss: 0.5621 - val_accuracy: 0.4643 - val_loss: 0.8603\n",
      "Epoch 4/100\n",
      "\u001b[1m14/14\u001b[0m \u001b[32m━━━━━━━━━━━━━━━━━━━━\u001b[0m\u001b[37m\u001b[0m \u001b[1m0s\u001b[0m 2ms/step - accuracy: 0.6551 - loss: 0.6187 - val_accuracy: 0.4643 - val_loss: 0.8820\n",
      "Epoch 5/100\n",
      "\u001b[1m14/14\u001b[0m \u001b[32m━━━━━━━━━━━━━━━━━━━━\u001b[0m\u001b[37m\u001b[0m \u001b[1m0s\u001b[0m 2ms/step - accuracy: 0.5936 - loss: 0.8246 - val_accuracy: 0.4643 - val_loss: 0.9038\n",
      "Epoch 6/100\n",
      "\u001b[1m14/14\u001b[0m \u001b[32m━━━━━━━━━━━━━━━━━━━━\u001b[0m\u001b[37m\u001b[0m \u001b[1m0s\u001b[0m 3ms/step - accuracy: 0.7266 - loss: 0.5410 - val_accuracy: 0.4464 - val_loss: 0.9323\n",
      "\u001b[1m4/4\u001b[0m \u001b[32m━━━━━━━━━━━━━━━━━━━━\u001b[0m\u001b[37m\u001b[0m \u001b[1m0s\u001b[0m 3ms/step - accuracy: 0.4865 - loss: 2.8312\n",
      "Adaptation Test Accuracy: 0.5000\n"
     ]
    }
   ],
   "source": [
    "# Train the model\n",
    "model.fit(X_train_csp, Y_train, epochs=100, batch_size=16, validation_data=(X_val_csp, Y_val), callbacks=early_stopping)\n",
    "\n",
    "# Evaluate the model\n",
    "test_loss, test_accuracy = model.evaluate(X_test_csp, Y_test)\n",
    "print(f'Adaptation Test Accuracy: {test_accuracy:.4f}')"
   ]
  },
  {
   "cell_type": "markdown",
   "metadata": {},
   "source": [
    "## Deep CORAL"
   ]
  },
  {
   "cell_type": "code",
   "execution_count": 123,
   "metadata": {},
   "outputs": [],
   "source": [
    "import tensorflow as tf\n",
    "from tensorflow.keras.models import Model\n",
    "from tensorflow.keras.layers import Input, Conv1D, BatchNormalization, AveragePooling1D, Dropout, Flatten, Dense, Lambda\n",
    "import numpy as np\n",
    "import matplotlib.pyplot as plt\n"
   ]
  },
  {
   "cell_type": "code",
   "execution_count": 124,
   "metadata": {},
   "outputs": [],
   "source": [
    "def coral_loss(source, target):\n",
    "    \"\"\"\n",
    "    Compute CORrelation ALignment (CORAL) loss to minimize the difference \n",
    "    in covariance between source and target feature distributions.\n",
    "\n",
    "    Parameters:\n",
    "        source (tf.Tensor): Feature representations of source domain (batch_size, features)\n",
    "        target (tf.Tensor): Feature representations of target domain (batch_size, features)\n",
    "\n",
    "    Returns:\n",
    "        tf.Tensor: Scalar loss value\n",
    "    \"\"\"\n",
    "    d = tf.cast(tf.shape(source)[1], tf.float32)  # Feature dimensionality\n",
    "\n",
    "    # Compute covariance matrices\n",
    "    source_cov = tf.matmul(tf.transpose(source), source) / tf.cast(tf.shape(source)[0] - 1, tf.float32)\n",
    "    target_cov = tf.matmul(tf.transpose(target), target) / tf.cast(tf.shape(target)[0] - 1, tf.float32)\n",
    "\n",
    "    # Compute Frobenius norm of the covariance difference\n",
    "    loss = tf.reduce_mean(tf.square(source_cov - target_cov)) / (4 * d * d)\n",
    "\n",
    "    return loss\n"
   ]
  },
  {
   "cell_type": "code",
   "execution_count": 125,
   "metadata": {},
   "outputs": [],
   "source": [
    "def build_deep_coral_model(input_shape):\n",
    "    \"\"\"\n",
    "    Build the Deep CORAL model with shared feature extraction layers.\n",
    "    \n",
    "    Parameters:\n",
    "        input_shape (tuple): Shape of the input data (time_steps, channels)\n",
    "\n",
    "    Returns:\n",
    "        model (tf.keras.Model): Deep CORAL Model\n",
    "    \"\"\"\n",
    "    # Define input layer\n",
    "    input_layer = Input(shape=input_shape, name=\"input_layer\")\n",
    "\n",
    "    # Temporal Convolution (1D)\n",
    "    conv1 = Conv1D(filters=8, kernel_size=3, padding=\"same\", activation=\"relu\", name=\"conv1\")(input_layer)\n",
    "    bn1 = BatchNormalization(name=\"batch_norm1\")(conv1)\n",
    "\n",
    "    # Squaring Activation\n",
    "    squared = Lambda(lambda x: tf.math.square(x), name=\"squaring\")(bn1)\n",
    "\n",
    "    # Average Pooling\n",
    "    pooling = AveragePooling1D(pool_size=2, name=\"pooling\")(squared)\n",
    "    dropout = Dropout(0.3, name=\"dropout\")(pooling)\n",
    "\n",
    "    # Feature Extraction Layer\n",
    "    feature_layer = Flatten(name=\"feature_layer\")(dropout)\n",
    "\n",
    "    # Classification Output Layer\n",
    "    output_layer = Dense(units=1, activation=\"sigmoid\", name=\"output_layer\")(feature_layer)\n",
    "\n",
    "    # Create Model\n",
    "    model = Model(inputs=input_layer, outputs=output_layer, name=\"DeepCORAL_Model\")\n",
    "\n",
    "    return model\n"
   ]
  },
  {
   "cell_type": "code",
   "execution_count": 126,
   "metadata": {},
   "outputs": [
    {
     "name": "stdout",
     "output_type": "stream",
     "text": [
      "Epoch 1/50 - Loss: 1.0662 - Class Loss: 1.0658 - CORAL Loss: 0.0339\n",
      "Epoch 2/50 - Loss: 1.1210 - Class Loss: 1.1207 - CORAL Loss: 0.0376\n",
      "Epoch 3/50 - Loss: 0.9729 - Class Loss: 0.9724 - CORAL Loss: 0.0502\n",
      "Epoch 4/50 - Loss: 0.9320 - Class Loss: 0.9315 - CORAL Loss: 0.0458\n",
      "Epoch 5/50 - Loss: 0.9176 - Class Loss: 0.9173 - CORAL Loss: 0.0358\n",
      "Epoch 6/50 - Loss: 1.0605 - Class Loss: 1.0600 - CORAL Loss: 0.0539\n",
      "Epoch 7/50 - Loss: 0.9616 - Class Loss: 0.9613 - CORAL Loss: 0.0316\n",
      "Epoch 8/50 - Loss: 1.0424 - Class Loss: 1.0420 - CORAL Loss: 0.0406\n",
      "Epoch 9/50 - Loss: 0.9402 - Class Loss: 0.9400 - CORAL Loss: 0.0204\n",
      "Epoch 10/50 - Loss: 0.9498 - Class Loss: 0.9495 - CORAL Loss: 0.0306\n",
      "Epoch 11/50 - Loss: 0.8595 - Class Loss: 0.8588 - CORAL Loss: 0.0678\n",
      "Epoch 12/50 - Loss: 0.9514 - Class Loss: 0.9510 - CORAL Loss: 0.0448\n",
      "Epoch 13/50 - Loss: 0.7589 - Class Loss: 0.7587 - CORAL Loss: 0.0278\n",
      "Epoch 14/50 - Loss: 0.8523 - Class Loss: 0.8519 - CORAL Loss: 0.0402\n",
      "Epoch 15/50 - Loss: 0.7676 - Class Loss: 0.7672 - CORAL Loss: 0.0462\n",
      "Epoch 16/50 - Loss: 0.8443 - Class Loss: 0.8439 - CORAL Loss: 0.0394\n",
      "Epoch 17/50 - Loss: 0.7684 - Class Loss: 0.7681 - CORAL Loss: 0.0271\n",
      "Epoch 18/50 - Loss: 0.8237 - Class Loss: 0.8235 - CORAL Loss: 0.0201\n",
      "Epoch 19/50 - Loss: 0.8287 - Class Loss: 0.8283 - CORAL Loss: 0.0397\n",
      "Epoch 20/50 - Loss: 0.6887 - Class Loss: 0.6884 - CORAL Loss: 0.0352\n",
      "Epoch 21/50 - Loss: 0.7762 - Class Loss: 0.7755 - CORAL Loss: 0.0692\n",
      "Epoch 22/50 - Loss: 0.8169 - Class Loss: 0.8164 - CORAL Loss: 0.0540\n",
      "Epoch 23/50 - Loss: 0.7190 - Class Loss: 0.7186 - CORAL Loss: 0.0395\n",
      "Epoch 24/50 - Loss: 0.7386 - Class Loss: 0.7382 - CORAL Loss: 0.0434\n",
      "Epoch 25/50 - Loss: 0.7849 - Class Loss: 0.7844 - CORAL Loss: 0.0507\n",
      "Epoch 26/50 - Loss: 0.6696 - Class Loss: 0.6691 - CORAL Loss: 0.0553\n",
      "Epoch 27/50 - Loss: 0.6971 - Class Loss: 0.6967 - CORAL Loss: 0.0401\n",
      "Epoch 28/50 - Loss: 0.6452 - Class Loss: 0.6446 - CORAL Loss: 0.0692\n",
      "Epoch 29/50 - Loss: 0.6716 - Class Loss: 0.6713 - CORAL Loss: 0.0380\n",
      "Epoch 30/50 - Loss: 0.6403 - Class Loss: 0.6401 - CORAL Loss: 0.0272\n",
      "Epoch 31/50 - Loss: 0.6190 - Class Loss: 0.6185 - CORAL Loss: 0.0445\n",
      "Epoch 32/50 - Loss: 0.6386 - Class Loss: 0.6383 - CORAL Loss: 0.0253\n",
      "Epoch 33/50 - Loss: 0.5753 - Class Loss: 0.5749 - CORAL Loss: 0.0483\n",
      "Epoch 34/50 - Loss: 0.6863 - Class Loss: 0.6858 - CORAL Loss: 0.0536\n",
      "Epoch 35/50 - Loss: 0.6553 - Class Loss: 0.6548 - CORAL Loss: 0.0547\n",
      "Epoch 36/50 - Loss: 0.6372 - Class Loss: 0.6370 - CORAL Loss: 0.0207\n",
      "Epoch 37/50 - Loss: 0.6240 - Class Loss: 0.6235 - CORAL Loss: 0.0516\n",
      "Epoch 38/50 - Loss: 0.6676 - Class Loss: 0.6669 - CORAL Loss: 0.0646\n",
      "Epoch 39/50 - Loss: 0.5847 - Class Loss: 0.5843 - CORAL Loss: 0.0409\n",
      "Epoch 40/50 - Loss: 0.5770 - Class Loss: 0.5766 - CORAL Loss: 0.0436\n",
      "Epoch 41/50 - Loss: 0.6697 - Class Loss: 0.6695 - CORAL Loss: 0.0238\n",
      "Epoch 42/50 - Loss: 0.6776 - Class Loss: 0.6774 - CORAL Loss: 0.0264\n",
      "Epoch 43/50 - Loss: 0.6307 - Class Loss: 0.6302 - CORAL Loss: 0.0459\n",
      "Epoch 44/50 - Loss: 0.6575 - Class Loss: 0.6570 - CORAL Loss: 0.0542\n",
      "Epoch 45/50 - Loss: 0.6646 - Class Loss: 0.6643 - CORAL Loss: 0.0280\n",
      "Epoch 46/50 - Loss: 0.6171 - Class Loss: 0.6165 - CORAL Loss: 0.0618\n",
      "Epoch 47/50 - Loss: 0.6432 - Class Loss: 0.6428 - CORAL Loss: 0.0371\n",
      "Epoch 48/50 - Loss: 0.5697 - Class Loss: 0.5691 - CORAL Loss: 0.0604\n",
      "Epoch 49/50 - Loss: 0.5940 - Class Loss: 0.5934 - CORAL Loss: 0.0619\n",
      "Epoch 50/50 - Loss: 0.6216 - Class Loss: 0.6214 - CORAL Loss: 0.0258\n"
     ]
    }
   ],
   "source": [
    "# Initialize Model\n",
    "input_shape = (X_train_csp.shape[1], X_train_csp.shape[2])\n",
    "model = build_deep_coral_model(input_shape)\n",
    "\n",
    "# Extract Feature Representation Model\n",
    "feature_extractor = Model(inputs=model.input, outputs=model.get_layer(\"feature_layer\").output)\n",
    "\n",
    "# Define Optimizer and Loss\n",
    "optimizer = tf.keras.optimizers.Adam(learning_rate=0.001)\n",
    "classification_loss_fn = tf.keras.losses.BinaryCrossentropy()\n",
    "\n",
    "# Custom Training Loop with CORAL Loss\n",
    "epochs = 50\n",
    "batch_size = 16\n",
    "\n",
    "for epoch in range(epochs):\n",
    "    with tf.GradientTape() as tape:\n",
    "        # Forward pass\n",
    "        source_preds = model(X_train_csp, training=True)\n",
    "        target_preds = model(X_test_csp, training=True)\n",
    "\n",
    "        # Extract Feature Representations\n",
    "        source_features = feature_extractor(X_train_csp, training=True)\n",
    "        target_features = feature_extractor(X_test_csp, training=True)\n",
    "\n",
    "        # Compute Losses\n",
    "        loss_classification = classification_loss_fn(Y_train, source_preds)\n",
    "        loss_coral = coral_loss(source_features, target_features)\n",
    "        total_loss = loss_classification + 0.01 * loss_coral  # Weighting factor\n",
    "\n",
    "    # Compute Gradients\n",
    "    gradients = tape.gradient(total_loss, model.trainable_variables)\n",
    "    optimizer.apply_gradients(zip(gradients, model.trainable_variables))\n",
    "\n",
    "    # Print Loss per Epoch\n",
    "    print(f\"Epoch {epoch+1}/{epochs} - Loss: {total_loss.numpy():.4f} - Class Loss: {loss_classification.numpy():.4f} - CORAL Loss: {loss_coral.numpy():.4f}\")\n"
   ]
  },
  {
   "cell_type": "code",
   "execution_count": 127,
   "metadata": {},
   "outputs": [
    {
     "name": "stdout",
     "output_type": "stream",
     "text": [
      "\u001b[1m4/4\u001b[0m \u001b[32m━━━━━━━━━━━━━━━━━━━━\u001b[0m\u001b[37m\u001b[0m \u001b[1m0s\u001b[0m 9ms/step \n",
      "Deep CORAL Adaptation Test Accuracy: 0.5300\n"
     ]
    }
   ],
   "source": [
    "# Predict on Test Set\n",
    "preds = model.predict(X_test_csp)\n",
    "final_predictions = (preds > 0.5).astype(int)\n",
    "\n",
    "# Compute Accuracy\n",
    "accuracy = np.mean(final_predictions.flatten() == Y_test.flatten())\n",
    "print(f\"Deep CORAL Adaptation Test Accuracy: {accuracy:.4f}\")\n"
   ]
  },
  {
   "cell_type": "code",
   "execution_count": 128,
   "metadata": {},
   "outputs": [
    {
     "name": "stdout",
     "output_type": "stream",
     "text": [
      "WARNING:tensorflow:5 out of the last 16 calls to <function TensorFlowTrainer.make_predict_function.<locals>.one_step_on_data_distributed at 0x2b2389620> triggered tf.function retracing. Tracing is expensive and the excessive number of tracings could be due to (1) creating @tf.function repeatedly in a loop, (2) passing tensors with different shapes, (3) passing Python objects instead of tensors. For (1), please define your @tf.function outside of the loop. For (2), @tf.function has reduce_retracing=True option that can avoid unnecessary retracing. For (3), please refer to https://www.tensorflow.org/guide/function#controlling_retracing and https://www.tensorflow.org/api_docs/python/tf/function for  more details.\n",
      "\u001b[1m7/7\u001b[0m \u001b[32m━━━━━━━━━━━━━━━━━━━━\u001b[0m\u001b[37m\u001b[0m \u001b[1m0s\u001b[0m 5ms/step \n",
      "\u001b[1m4/4\u001b[0m \u001b[32m━━━━━━━━━━━━━━━━━━━━\u001b[0m\u001b[37m\u001b[0m \u001b[1m0s\u001b[0m 3ms/step\n"
     ]
    },
    {
     "data": {
      "image/png": "[encoded data removed]",
      "text/plain": [
       "<Figure size 800x600 with 1 Axes>"
      ]
     },
     "metadata": {},
     "output_type": "display_data"
    }
   ],
   "source": [
    "from sklearn.decomposition import PCA\n",
    "\n",
    "# Extract features again after training\n",
    "X_train_features = feature_extractor.predict(X_train_csp)\n",
    "X_test_features = feature_extractor.predict(X_test_csp)\n",
    "\n",
    "# Reduce dimensions to 2D for visualization\n",
    "pca = PCA(n_components=2)\n",
    "X_train_pca = pca.fit_transform(X_train_features)\n",
    "X_test_pca = pca.transform(X_test_features)\n",
    "\n",
    "# Plot Results\n",
    "plt.figure(figsize=(8, 6))\n",
    "plt.scatter(X_train_pca[:, 0], X_train_pca[:, 1], c=\"blue\", alpha=0.5, label=\"Source Domain (Train)\")\n",
    "plt.scatter(X_test_pca[:, 0], X_test_pca[:, 1], c=\"red\", alpha=0.5, label=\"Target Domain (Test)\")\n",
    "plt.legend()\n",
    "plt.title(\"Feature Alignment Using Deep CORAL\")\n",
    "plt.show()\n"
   ]
  },
  {
   "cell_type": "code",
   "execution_count": 129,
   "metadata": {},
   "outputs": [
    {
     "name": "stdout",
     "output_type": "stream",
     "text": [
      "Reshaped X_train_csp: (222, 12)\n",
      "Reshaped X_test_csp: (100, 12)\n"
     ]
    }
   ],
   "source": [
    "X_train_csp_reshaped = X_train_csp.reshape(X_train_csp.shape[0], -1)\n",
    "X_test_csp_reshaped = X_test_csp.reshape(X_test_csp.shape[0], -1)\n",
    "\n",
    "# Check shape after reshaping\n",
    "print(\"Reshaped X_train_csp:\", X_train_csp_reshaped.shape)\n",
    "print(\"Reshaped X_test_csp:\", X_test_csp_reshaped.shape)\n"
   ]
  },
  {
   "cell_type": "code",
   "execution_count": 130,
   "metadata": {},
   "outputs": [
    {
     "data": {
      "image/png": "[encoded data removed]",
      "text/plain": [
       "<Figure size 640x480 with 1 Axes>"
      ]
     },
     "metadata": {},
     "output_type": "display_data"
    }
   ],
   "source": [
    "from sklearn.decomposition import PCA\n",
    "import matplotlib.pyplot as plt\n",
    "\n",
    "pca = PCA(n_components=2)\n",
    "\n",
    "X_train_pca = pca.fit_transform(X_train_csp_reshaped)\n",
    "X_test_pca = pca.transform(X_test_csp_reshaped)\n",
    "\n",
    "plt.scatter(X_train_pca[:, 0], X_train_pca[:, 1], c=Y_train, cmap=\"coolwarm\", alpha=0.5, label=\"Train\")\n",
    "plt.scatter(X_test_pca[:, 0], X_test_pca[:, 1], c=Y_test, cmap=\"coolwarm\", marker=\"x\", label=\"Test\")\n",
    "plt.legend()\n",
    "plt.title(\"Feature Alignment Before/After Deep CORAL\")\n",
    "plt.show()\n"
   ]
  },
  {
   "cell_type": "code",
   "execution_count": null,
   "metadata": {},
   "outputs": [],
   "source": []
  },
  {
   "cell_type": "code",
   "execution_count": null,
   "metadata": {},
   "outputs": [],
   "source": []
  }
 ],
 "metadata": {
  "kernelspec": {
   "display_name": "earnings_transcript_scraping",
   "language": "python",
   "name": "python3"
  },
  "language_info": {
   "codemirror_mode": {
    "name": "ipython",
    "version": 3
   },
   "file_extension": ".py",
   "mimetype": "text/x-python",
   "name": "python",
   "nbconvert_exporter": "python",
   "pygments_lexer": "ipython3",
   "version": "3.11.7"
  }
 },
 "nbformat": 4,
 "nbformat_minor": 2
}
