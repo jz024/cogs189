{
 "cells": [
  {
   "cell_type": "code",
   "execution_count": 2,
   "metadata": {},
   "outputs": [],
   "source": [
    "import numpy as np\n",
    "from sklearn.model_selection import train_test_split\n",
    "from scipy.signal import butter, lfilter\n",
    "from sklearn.discriminant_analysis import LinearDiscriminantAnalysis\n",
    "from sklearn.metrics import accuracy_score, confusion_matrix"
   ]
  },
  {
   "cell_type": "code",
   "execution_count": 3,
   "metadata": {},
   "outputs": [
    {
     "name": "stdout",
     "output_type": "stream",
     "text": [
      "Raw shape of train_cnt: (17792, 3000)\n"
     ]
    }
   ],
   "source": [
    "train_cnt_file = \"train/Competition_train_cnt.txt\"\n",
    "train_lab_file = \"train/Competition_train_lab.txt\"\n",
    "\n",
    "train_cnt = np.loadtxt(train_cnt_file)\n",
    "Y_train = np.loadtxt(train_lab_file)\n",
    "\n",
    "print(\"Raw shape of train_cnt:\", train_cnt.shape)\n"
   ]
  },
  {
   "cell_type": "code",
   "execution_count": 4,
   "metadata": {},
   "outputs": [
    {
     "name": "stdout",
     "output_type": "stream",
     "text": [
      "X_train final shape: (278, 64, 3000)\n",
      "Y_train shape: (278,)\n"
     ]
    }
   ],
   "source": [
    "n_trials_train = 278\n",
    "n_channels = 64\n",
    "n_samples = 3000\n",
    "\n",
    "X_train = train_cnt.reshape(n_trials_train, n_channels, n_samples)\n",
    "\n",
    "print(\"X_train final shape:\", X_train.shape)\n",
    "print(\"Y_train shape:\", Y_train.shape)"
   ]
  },
  {
   "cell_type": "code",
   "execution_count": 5,
   "metadata": {},
   "outputs": [
    {
     "name": "stdout",
     "output_type": "stream",
     "text": [
      "Raw shape of test_cnt: (6400, 3000)\n"
     ]
    }
   ],
   "source": [
    "test_file = \"test.txt\"\n",
    "test_label_file = \"data/test/test_label.txt\"\n",
    "\n",
    "test_cnt = np.loadtxt(test_file)\n",
    "Y_test = np.loadtxt(test_label_file)\n",
    "\n",
    "print(\"Raw shape of test_cnt:\", test_cnt.shape)"
   ]
  },
  {
   "cell_type": "code",
   "execution_count": 6,
   "metadata": {},
   "outputs": [
    {
     "name": "stdout",
     "output_type": "stream",
     "text": [
      "test final shape: (100, 64, 3000)\n"
     ]
    }
   ],
   "source": [
    "n_trials_test = 100\n",
    "X_test = test_cnt.reshape(n_trials_test, n_channels, n_samples)\n",
    "\n",
    "print(\"test final shape:\", X_test.shape)"
   ]
  },
  {
   "cell_type": "code",
   "execution_count": 7,
   "metadata": {},
   "outputs": [
    {
     "name": "stdout",
     "output_type": "stream",
     "text": [
      "Train Set Shape: (222, 64, 3000) (222,)\n",
      "Validation Set Shape: (56, 64, 3000) (56,)\n"
     ]
    }
   ],
   "source": [
    "X_train, X_val, Y_train, Y_val = train_test_split(X_train, Y_train, test_size=0.2, random_state=42)\n",
    "\n",
    "print(\"Train Set Shape:\", X_train.shape, Y_train.shape)\n",
    "print(\"Validation Set Shape:\", X_val.shape, Y_val.shape)"
   ]
  },
  {
   "cell_type": "code",
   "execution_count": 8,
   "metadata": {},
   "outputs": [],
   "source": [
    "def bandpass_filter(data, lowcut=8, highcut=30, fs=1000, order=5):\n",
    "    \"\"\"\n",
    "    Apply a bandpass filter to the input data.\n",
    "\n",
    "    Parameters:\n",
    "        data (ndarray): EEG/ECoG data of shape (trials, channels, samples)\n",
    "        lowcut (float): Lower cutoff frequency (default: 8 Hz)\n",
    "        highcut (float): Upper cutoff frequency (default: 30 Hz)\n",
    "        fs (int): Sampling frequency (default: 1000 Hz)\n",
    "        order (int): Order of the filter (default: 5)\n",
    "\n",
    "    Returns:\n",
    "        ndarray: Filtered data (same shape as input)\n",
    "    \"\"\"\n",
    "    nyquist = 0.5 * fs\n",
    "    low = lowcut / nyquist\n",
    "    high = highcut / nyquist\n",
    "    b, a = butter(order, [low, high], btype='band')\n",
    "\n",
    "    filtered_data = lfilter(b, a, data, axis=-1)\n",
    "    return filtered_data\n"
   ]
  },
  {
   "cell_type": "code",
   "execution_count": 9,
   "metadata": {},
   "outputs": [],
   "source": [
    "X_train_filt = bandpass_filter(X_train)\n",
    "X_val_filt = bandpass_filter(X_val)\n",
    "X_test_filt = bandpass_filter(X_test)"
   ]
  },
  {
   "cell_type": "markdown",
   "metadata": {},
   "source": [
    "## Classic CSP"
   ]
  },
  {
   "cell_type": "code",
   "execution_count": 10,
   "metadata": {},
   "outputs": [],
   "source": [
    "def compute_covariance(trial_data):\n",
    "    \"\"\"\n",
    "    Compute the covariance matrix for a given trial.\n",
    "    \n",
    "    Parameters:\n",
    "        trial_data (ndarray): Shape (channels, samples)\n",
    "    \n",
    "    Returns:\n",
    "        ndarray: Covariance matrix (channels x channels)\n",
    "    \"\"\"\n",
    "    return np.cov(trial_data)\n",
    "\n",
    "def csp_fit(X, y, n_components=3):\n",
    "    \"\"\"\n",
    "    Fit CSP spatial filters.\n",
    "\n",
    "    Parameters:\n",
    "        X (ndarray): Shape (trials, channels, samples)\n",
    "        y (ndarray): Labels (-1 or 1), shape (trials,)\n",
    "        n_components (int): Number of CSP components to retain per class\n",
    "\n",
    "    Returns:\n",
    "        ndarray: CSP spatial filters (channels, 2 * n_components)\n",
    "    \"\"\"\n",
    "\n",
    "    X_class1 = X[y == -1]\n",
    "    X_class2 = X[y == 1]\n",
    "\n",
    "    cov_class1 = np.mean([compute_covariance(x) for x in X_class1], axis=0)\n",
    "    cov_class2 = np.mean([compute_covariance(x) for x in X_class2], axis=0)\n",
    "\n",
    "    from scipy.linalg import eigh\n",
    "    w, v = eigh(cov_class1, cov_class2)\n",
    "\n",
    "    idx = np.argsort(w)[::-1]\n",
    "    v = v[:, idx]\n",
    "    filters = np.hstack([v[:, :n_components], v[:, -n_components:]])\n",
    "    \n",
    "    return filters\n",
    "\n",
    "def csp_transform(X, filters):\n",
    "    \"\"\"\n",
    "    Apply CSP transformation to extract log-variance features.\n",
    "\n",
    "    Parameters:\n",
    "        X (ndarray): Shape (trials, channels, samples)\n",
    "        filters (ndarray): CSP spatial filters (channels, 2*n_components)\n",
    "\n",
    "    Returns:\n",
    "        ndarray: CSP features (trials, 2*n_components)\n",
    "    \"\"\"\n",
    "    n_trials, _, _ = X.shape\n",
    "    n_filters = filters.shape[1]\n",
    "    features = np.zeros((n_trials, n_filters))\n",
    "\n",
    "    for i in range(n_trials):\n",
    "        projected = filters.T @ X[i] \n",
    "        var = np.var(projected, axis=1)\n",
    "        features[i, :] = np.log(var)\n",
    "\n",
    "    return features\n"
   ]
  },
  {
   "cell_type": "code",
   "execution_count": 11,
   "metadata": {},
   "outputs": [
    {
     "name": "stdout",
     "output_type": "stream",
     "text": [
      "Validation Accuracy: 0.8929\n"
     ]
    }
   ],
   "source": [
    "csp_filters = csp_fit(X_train_filt, Y_train, n_components=3)\n",
    "\n",
    "X_train_csp = csp_transform(X_train_filt, csp_filters)\n",
    "X_val_csp = csp_transform(X_val_filt, csp_filters)\n",
    "X_test_csp = csp_transform(X_test_filt, csp_filters)\n",
    "\n",
    "clf = LinearDiscriminantAnalysis()\n",
    "clf.fit(X_train_csp, Y_train)\n",
    "\n",
    "pred_val = clf.predict(X_val_csp)\n",
    "acc_val = accuracy_score(Y_val, pred_val)\n",
    "print(f\"Validation Accuracy: {acc_val:.4f}\")\n"
   ]
  },
  {
   "cell_type": "code",
   "execution_count": 12,
   "metadata": {},
   "outputs": [
    {
     "name": "stdout",
     "output_type": "stream",
     "text": [
      "No Adaptation Test Accuracy: 0.7600\n",
      "Confusion Matrix (No Adaptation):\n",
      "[[50  0]\n",
      " [24 26]]\n"
     ]
    }
   ],
   "source": [
    "pred_noadapt = clf.predict(X_test_csp)\n",
    "\n",
    "acc_noadapt = accuracy_score(Y_test, pred_noadapt)\n",
    "print(f\"No Adaptation Test Accuracy: {acc_noadapt:.4f}\")\n",
    "\n",
    "print(\"Confusion Matrix (No Adaptation):\")\n",
    "print(confusion_matrix(Y_test, pred_noadapt))\n"
   ]
  },
  {
   "cell_type": "markdown",
   "metadata": {},
   "source": [
    "## CORAL"
   ]
  },
  {
   "cell_type": "code",
   "execution_count": 13,
   "metadata": {},
   "outputs": [],
   "source": [
    "def coral_transform(X_train, X_test):\n",
    "    \"\"\"\n",
    "    Apply CORAL adaptation to align train and test feature distributions.\n",
    "\n",
    "    Parameters:\n",
    "        X_train (ndarray): Training CSP features, shape (trials, features)\n",
    "        X_test (ndarray): Test CSP features, shape (trials, features)\n",
    "\n",
    "    Returns:\n",
    "        X_test_aligned (ndarray): Adapted test CSP features\n",
    "    \"\"\"\n",
    "    # Compute covariance matrices\n",
    "    cov_train = np.cov(X_train.T)  # (features, features)\n",
    "    cov_test = np.cov(X_test.T)    # (features, features)\n",
    "\n",
    "    # Solve eigenvalue decomposition\n",
    "    d_train, v_train = np.linalg.eigh(cov_train)\n",
    "    d_test, v_test = np.linalg.eigh(cov_test)\n",
    "\n",
    "    # Regularize (avoid zero division)\n",
    "    d_train[d_train < 1e-5] = 1e-5\n",
    "    d_test[d_test < 1e-5] = 1e-5\n",
    "\n",
    "    # Compute whitening and re-coloring matrices\n",
    "    w_train = v_train @ np.diag(1.0 / np.sqrt(d_train)) @ v_train.T\n",
    "    w_test = v_test @ np.diag(np.sqrt(d_test)) @ v_test.T\n",
    "\n",
    "    # Align test features with train distribution\n",
    "    X_test_aligned = X_test @ w_test @ w_train\n",
    "    return X_test_aligned\n"
   ]
  },
  {
   "cell_type": "code",
   "execution_count": 14,
   "metadata": {},
   "outputs": [
    {
     "name": "stdout",
     "output_type": "stream",
     "text": [
      "CORAL Adaptation Test Accuracy: 0.8500\n"
     ]
    }
   ],
   "source": [
    "# Compute CSP features\n",
    "X_train_csp = csp_transform(X_train_filt, csp_filters)\n",
    "X_val_csp = csp_transform(X_val_filt, csp_filters)\n",
    "X_test_csp = csp_transform(X_test_filt, csp_filters)\n",
    "\n",
    "X_test_csp_adapted = coral_transform(X_train_csp, X_test_csp)\n",
    "\n",
    "from sklearn.discriminant_analysis import LinearDiscriminantAnalysis\n",
    "\n",
    "clf = LinearDiscriminantAnalysis()\n",
    "clf.fit(X_train_csp, Y_train)\n",
    "\n",
    "Y_pred_adapted = clf.predict(X_test_csp_adapted)\n",
    "\n",
    "from sklearn.metrics import accuracy_score\n",
    "acc_coral = accuracy_score(Y_test, Y_pred_adapted)\n",
    "print(f\"CORAL Adaptation Test Accuracy: {acc_coral:.4f}\")\n"
   ]
  },
  {
   "cell_type": "markdown",
   "metadata": {},
   "source": [
    "## TACNN"
   ]
  },
  {
   "cell_type": "code",
   "execution_count": 60,
   "metadata": {},
   "outputs": [],
   "source": [
    "# Define frequency bands (e.g., 4-8 Hz, 8-12 Hz, etc.)\n",
    "frequency_bands = [(4, 8), (8, 12), (12, 16), (16, 20), (20, 24), (24, 28), (28, 32), (32, 36), (36, 40)]\n",
    "\n",
    "# Apply bandpass filter for each frequency band\n",
    "X_train_filt = np.array([bandpass_filter(X_train, low, high, fs=1000) for (low, high) in frequency_bands])\n",
    "X_val_filt = np.array([bandpass_filter(X_val, low, high, fs=1000) for (low, high) in frequency_bands])\n",
    "X_test_filt = np.array([bandpass_filter(X_test, low, high, fs=1000) for (low, high) in frequency_bands])\n",
    "\n",
    "# Reshape to combine frequency bands\n",
    "# New shape: (trials, channels, samples, frequency_bands)\n",
    "X_train_filt = np.transpose(X_train_filt, (1, 2, 3, 0))\n",
    "X_val_filt = np.transpose(X_val_filt, (1, 2, 3, 0))\n",
    "X_test_filt = np.transpose(X_test_filt, (1, 2, 3, 0))\n"
   ]
  },
  {
   "cell_type": "code",
   "execution_count": 61,
   "metadata": {},
   "outputs": [],
   "source": [
    "def compute_covariance(trial_data, epsilon=1e-6):\n",
    "    \"\"\"\n",
    "    Compute the covariance matrix for a given trial while ensuring numerical stability.\n",
    "    \"\"\"\n",
    "    if trial_data.ndim == 3:\n",
    "        trial_data = trial_data[0]  # Ensure it's (channels, samples)\n",
    "    \n",
    "    if trial_data.shape[0] > trial_data.shape[1]:  \n",
    "        trial_data = trial_data.T  # Ensure (channels, samples) format\n",
    "\n",
    "    cov_matrix = np.cov(trial_data)\n",
    "\n",
    "    # Regularization: Avoid singular matrices\n",
    "    cov_matrix += epsilon * np.eye(cov_matrix.shape[0])\n",
    "\n",
    "    return cov_matrix\n",
    "\n"
   ]
  },
  {
   "cell_type": "code",
   "execution_count": 62,
   "metadata": {},
   "outputs": [],
   "source": [
    "def csp_transform(X, filters):\n",
    "    X = np.mean(X, axis=-1)  # Reduce frequency band dimension\n",
    "    n_trials, _, _ = X.shape\n",
    "    n_filters = filters.shape[1]\n",
    "    features = np.zeros((n_trials, n_filters))\n",
    "\n",
    "    for i in range(n_trials):\n",
    "        projected = filters.T @ X[i]\n",
    "        var = np.var(projected, axis=1)\n",
    "        features[i, :] = np.log(var)  # Log transform for normalization\n",
    "\n",
    "    return features"
   ]
  },
  {
   "cell_type": "code",
   "execution_count": 63,
   "metadata": {},
   "outputs": [],
   "source": [
    "from scipy.linalg import eigh\n",
    "def csp_fit(X, y, n_components=6):\n",
    "    \"\"\"\n",
    "    Compute CSP filters while handling missing classes.\n",
    "    \"\"\"\n",
    "    if X.ndim == 4:  # Reduce frequency bands dimension by averaging\n",
    "        X = np.mean(X, axis=-1)\n",
    "\n",
    "    # Separate trials by class\n",
    "    X_class1 = X[y == 0]  # Class 0 trials\n",
    "    X_class2 = X[y == 1]  # Class 1 trials\n",
    "\n",
    "    # Ensure that both classes have at least one trial\n",
    "    if len(X_class1) == 0 or len(X_class2) == 0:\n",
    "        raise ValueError(\"One of the classes is missing from the dataset!\")\n",
    "\n",
    "    # Compute mean covariance for each class\n",
    "    cov_class1 = np.mean([compute_covariance(trial) for trial in X_class1], axis=0)\n",
    "    cov_class2 = np.mean([compute_covariance(trial) for trial in X_class2], axis=0)\n",
    "\n",
    "    # Check for NaN or Inf values\n",
    "    if np.isnan(cov_class1).any() or np.isinf(cov_class1).any():\n",
    "        raise ValueError(\"cov_class1 contains NaN or Inf values!\")\n",
    "    if np.isnan(cov_class2).any() or np.isinf(cov_class2).any():\n",
    "        raise ValueError(\"cov_class2 contains NaN or Inf values!\")\n",
    "\n",
    "    # Solve the generalized eigenvalue problem\n",
    "    w, v = eigh(cov_class1, cov_class2)\n",
    "\n",
    "    # Sort eigenvalues in descending order\n",
    "    idx = np.argsort(np.abs(w))[::-1]\n",
    "    v = v[:, idx]\n",
    "\n",
    "    # Select top n CSP components\n",
    "    filters = np.hstack([v[:, :n_components], v[:, -n_components:]])\n",
    "\n",
    "    return filters\n"
   ]
  },
  {
   "cell_type": "code",
   "execution_count": 64,
   "metadata": {},
   "outputs": [],
   "source": [
    "X_train_csp = csp_transform(X_train_filt, csp_filters)\n",
    "X_val_csp = csp_transform(X_val_filt, csp_filters)\n",
    "X_test_csp = csp_transform(X_test_filt, csp_filters)\n",
    "\n",
    "# Reshape CSP features for CNN input\n",
    "X_train_csp = X_train_csp.reshape(X_train_csp.shape[0], X_train_csp.shape[1], 1, 1)\n",
    "X_val_csp = X_val_csp.reshape(X_val_csp.shape[0], X_val_csp.shape[1], 1, 1)\n",
    "X_test_csp = X_test_csp.reshape(X_test_csp.shape[0], X_test_csp.shape[1], 1, 1)"
   ]
  },
  {
   "cell_type": "code",
   "execution_count": 86,
   "metadata": {},
   "outputs": [
    {
     "name": "stderr",
     "output_type": "stream",
     "text": [
      "/opt/anaconda3/lib/python3.11/site-packages/keras/src/layers/convolutional/base_conv.py:107: UserWarning: Do not pass an `input_shape`/`input_dim` argument to a layer. When using Sequential models, prefer using an `Input(shape)` object as the first layer in the model instead.\n",
      "  super().__init__(activity_regularizer=activity_regularizer, **kwargs)\n"
     ]
    }
   ],
   "source": [
    "import tensorflow as tf\n",
    "from tensorflow.keras.models import Sequential\n",
    "from tensorflow.keras.layers import Conv1D, BatchNormalization, AveragePooling1D, Dropout, Flatten, Dense, Lambda\n",
    "\n",
    "# Define the TA-CSPNN model with correct input shape\n",
    "model = Sequential([\n",
    "    # Temporal Convolution (1D instead of 2D)\n",
    "    Conv1D(filters=8, kernel_size=3, padding='same', activation='relu', input_shape=(X_train_csp.shape[1], 1)),\n",
    "    BatchNormalization(),\n",
    "\n",
    "    # Non-linearity (Squared Activation Function)\n",
    "    Lambda(lambda x: tf.math.square(x)),  # Square activation function\n",
    "\n",
    "    # Average Pooling (1D instead of 2D)\n",
    "    AveragePooling1D(pool_size=2),\n",
    "    Dropout(0.3),\n",
    "\n",
    "    # Flatten and Fully Connected Layer\n",
    "    Flatten(name=\"feature_layer\"),\n",
    "    Dense(units=1, activation='sigmoid')  # Binary classification\n",
    "])\n",
    "\n",
    "# Compile the model\n",
    "model.compile(optimizer='adam', loss='binary_crossentropy', metrics=['accuracy'])\n",
    "\n"
   ]
  },
  {
   "cell_type": "code",
   "execution_count": 87,
   "metadata": {},
   "outputs": [],
   "source": [
    "early_stopping = tf.keras.callbacks.EarlyStopping(monitor='val_loss', patience=5, restore_best_weights=True)"
   ]
  },
  {
   "cell_type": "code",
   "execution_count": 92,
   "metadata": {},
   "outputs": [
    {
     "name": "stdout",
     "output_type": "stream",
     "text": [
      "Epoch 1/100\n",
      "\u001b[1m14/14\u001b[0m \u001b[32m━━━━━━━━━━━━━━━━━━━━\u001b[0m\u001b[37m\u001b[0m \u001b[1m0s\u001b[0m 4ms/step - accuracy: 0.5676 - loss: 0.7105 - val_accuracy: 0.4821 - val_loss: 0.8308\n",
      "Epoch 2/100\n",
      "\u001b[1m14/14\u001b[0m \u001b[32m━━━━━━━━━━━━━━━━━━━━\u001b[0m\u001b[37m\u001b[0m \u001b[1m0s\u001b[0m 2ms/step - accuracy: 0.5310 - loss: 0.8141 - val_accuracy: 0.4821 - val_loss: 0.8426\n",
      "Epoch 3/100\n",
      "\u001b[1m14/14\u001b[0m \u001b[32m━━━━━━━━━━━━━━━━━━━━\u001b[0m\u001b[37m\u001b[0m \u001b[1m0s\u001b[0m 2ms/step - accuracy: 0.6866 - loss: 0.5621 - val_accuracy: 0.4643 - val_loss: 0.8603\n",
      "Epoch 4/100\n",
      "\u001b[1m14/14\u001b[0m \u001b[32m━━━━━━━━━━━━━━━━━━━━\u001b[0m\u001b[37m\u001b[0m \u001b[1m0s\u001b[0m 2ms/step - accuracy: 0.6551 - loss: 0.6187 - val_accuracy: 0.4643 - val_loss: 0.8820\n",
      "Epoch 5/100\n",
      "\u001b[1m14/14\u001b[0m \u001b[32m━━━━━━━━━━━━━━━━━━━━\u001b[0m\u001b[37m\u001b[0m \u001b[1m0s\u001b[0m 2ms/step - accuracy: 0.5936 - loss: 0.8246 - val_accuracy: 0.4643 - val_loss: 0.9038\n",
      "Epoch 6/100\n",
      "\u001b[1m14/14\u001b[0m \u001b[32m━━━━━━━━━━━━━━━━━━━━\u001b[0m\u001b[37m\u001b[0m \u001b[1m0s\u001b[0m 3ms/step - accuracy: 0.7266 - loss: 0.5410 - val_accuracy: 0.4464 - val_loss: 0.9323\n",
      "\u001b[1m4/4\u001b[0m \u001b[32m━━━━━━━━━━━━━━━━━━━━\u001b[0m\u001b[37m\u001b[0m \u001b[1m0s\u001b[0m 3ms/step - accuracy: 0.4865 - loss: 2.8312\n",
      "Adaptation Test Accuracy: 0.5000\n"
     ]
    }
   ],
   "source": [
    "# Train the model\n",
    "model.fit(X_train_csp, Y_train, epochs=100, batch_size=16, validation_data=(X_val_csp, Y_val), callbacks=early_stopping)\n",
    "\n",
    "# Evaluate the model\n",
    "test_loss, test_accuracy = model.evaluate(X_test_csp, Y_test)\n",
    "print(f'Adaptation Test Accuracy: {test_accuracy:.4f}')"
   ]
  },
  {
   "cell_type": "markdown",
   "metadata": {},
   "source": [
    "## TACNN + CORAL"
   ]
  },
  {
   "cell_type": "code",
   "execution_count": 97,
   "metadata": {},
   "outputs": [
    {
     "data": {
      "text/html": [
       "<pre style=\"white-space:pre;overflow-x:auto;line-height:normal;font-family:Menlo,'DejaVu Sans Mono',consolas,'Courier New',monospace\"><span style=\"font-weight: bold\">Model: \"functional_8\"</span>\n",
       "</pre>\n"
      ],
      "text/plain": [
       "\u001b[1mModel: \"functional_8\"\u001b[0m\n"
      ]
     },
     "metadata": {},
     "output_type": "display_data"
    },
    {
     "data": {
      "text/html": [
       "<pre style=\"white-space:pre;overflow-x:auto;line-height:normal;font-family:Menlo,'DejaVu Sans Mono',consolas,'Courier New',monospace\">┏━━━━━━━━━━━━━━━━━━━━━━━━━━━━━━━━━┳━━━━━━━━━━━━━━━━━━━━━━━━┳━━━━━━━━━━━━━━━┓\n",
       "┃<span style=\"font-weight: bold\"> Layer (type)                    </span>┃<span style=\"font-weight: bold\"> Output Shape           </span>┃<span style=\"font-weight: bold\">       Param # </span>┃\n",
       "┡━━━━━━━━━━━━━━━━━━━━━━━━━━━━━━━━━╇━━━━━━━━━━━━━━━━━━━━━━━━╇━━━━━━━━━━━━━━━┩\n",
       "│ input_layer (<span style=\"color: #0087ff; text-decoration-color: #0087ff\">InputLayer</span>)        │ (<span style=\"color: #00d7ff; text-decoration-color: #00d7ff\">None</span>, <span style=\"color: #00af00; text-decoration-color: #00af00\">12</span>, <span style=\"color: #00af00; text-decoration-color: #00af00\">1</span>)          │             <span style=\"color: #00af00; text-decoration-color: #00af00\">0</span> │\n",
       "├─────────────────────────────────┼────────────────────────┼───────────────┤\n",
       "│ conv1 (<span style=\"color: #0087ff; text-decoration-color: #0087ff\">Conv1D</span>)                  │ (<span style=\"color: #00d7ff; text-decoration-color: #00d7ff\">None</span>, <span style=\"color: #00af00; text-decoration-color: #00af00\">12</span>, <span style=\"color: #00af00; text-decoration-color: #00af00\">8</span>)          │            <span style=\"color: #00af00; text-decoration-color: #00af00\">32</span> │\n",
       "├─────────────────────────────────┼────────────────────────┼───────────────┤\n",
       "│ batch_norm1                     │ (<span style=\"color: #00d7ff; text-decoration-color: #00d7ff\">None</span>, <span style=\"color: #00af00; text-decoration-color: #00af00\">12</span>, <span style=\"color: #00af00; text-decoration-color: #00af00\">8</span>)          │            <span style=\"color: #00af00; text-decoration-color: #00af00\">32</span> │\n",
       "│ (<span style=\"color: #0087ff; text-decoration-color: #0087ff\">BatchNormalization</span>)            │                        │               │\n",
       "├─────────────────────────────────┼────────────────────────┼───────────────┤\n",
       "│ squaring (<span style=\"color: #0087ff; text-decoration-color: #0087ff\">Lambda</span>)               │ (<span style=\"color: #00d7ff; text-decoration-color: #00d7ff\">None</span>, <span style=\"color: #00af00; text-decoration-color: #00af00\">12</span>, <span style=\"color: #00af00; text-decoration-color: #00af00\">8</span>)          │             <span style=\"color: #00af00; text-decoration-color: #00af00\">0</span> │\n",
       "├─────────────────────────────────┼────────────────────────┼───────────────┤\n",
       "│ pooling (<span style=\"color: #0087ff; text-decoration-color: #0087ff\">AveragePooling1D</span>)      │ (<span style=\"color: #00d7ff; text-decoration-color: #00d7ff\">None</span>, <span style=\"color: #00af00; text-decoration-color: #00af00\">6</span>, <span style=\"color: #00af00; text-decoration-color: #00af00\">8</span>)           │             <span style=\"color: #00af00; text-decoration-color: #00af00\">0</span> │\n",
       "├─────────────────────────────────┼────────────────────────┼───────────────┤\n",
       "│ dropout (<span style=\"color: #0087ff; text-decoration-color: #0087ff\">Dropout</span>)               │ (<span style=\"color: #00d7ff; text-decoration-color: #00d7ff\">None</span>, <span style=\"color: #00af00; text-decoration-color: #00af00\">6</span>, <span style=\"color: #00af00; text-decoration-color: #00af00\">8</span>)           │             <span style=\"color: #00af00; text-decoration-color: #00af00\">0</span> │\n",
       "├─────────────────────────────────┼────────────────────────┼───────────────┤\n",
       "│ feature_layer (<span style=\"color: #0087ff; text-decoration-color: #0087ff\">Flatten</span>)         │ (<span style=\"color: #00d7ff; text-decoration-color: #00d7ff\">None</span>, <span style=\"color: #00af00; text-decoration-color: #00af00\">48</span>)             │             <span style=\"color: #00af00; text-decoration-color: #00af00\">0</span> │\n",
       "├─────────────────────────────────┼────────────────────────┼───────────────┤\n",
       "│ output_layer (<span style=\"color: #0087ff; text-decoration-color: #0087ff\">Dense</span>)            │ (<span style=\"color: #00d7ff; text-decoration-color: #00d7ff\">None</span>, <span style=\"color: #00af00; text-decoration-color: #00af00\">1</span>)              │            <span style=\"color: #00af00; text-decoration-color: #00af00\">49</span> │\n",
       "└─────────────────────────────────┴────────────────────────┴───────────────┘\n",
       "</pre>\n"
      ],
      "text/plain": [
       "┏━━━━━━━━━━━━━━━━━━━━━━━━━━━━━━━━━┳━━━━━━━━━━━━━━━━━━━━━━━━┳━━━━━━━━━━━━━━━┓\n",
       "┃\u001b[1m \u001b[0m\u001b[1mLayer (type)                   \u001b[0m\u001b[1m \u001b[0m┃\u001b[1m \u001b[0m\u001b[1mOutput Shape          \u001b[0m\u001b[1m \u001b[0m┃\u001b[1m \u001b[0m\u001b[1m      Param #\u001b[0m\u001b[1m \u001b[0m┃\n",
       "┡━━━━━━━━━━━━━━━━━━━━━━━━━━━━━━━━━╇━━━━━━━━━━━━━━━━━━━━━━━━╇━━━━━━━━━━━━━━━┩\n",
       "│ input_layer (\u001b[38;5;33mInputLayer\u001b[0m)        │ (\u001b[38;5;45mNone\u001b[0m, \u001b[38;5;34m12\u001b[0m, \u001b[38;5;34m1\u001b[0m)          │             \u001b[38;5;34m0\u001b[0m │\n",
       "├─────────────────────────────────┼────────────────────────┼───────────────┤\n",
       "│ conv1 (\u001b[38;5;33mConv1D\u001b[0m)                  │ (\u001b[38;5;45mNone\u001b[0m, \u001b[38;5;34m12\u001b[0m, \u001b[38;5;34m8\u001b[0m)          │            \u001b[38;5;34m32\u001b[0m │\n",
       "├─────────────────────────────────┼────────────────────────┼───────────────┤\n",
       "│ batch_norm1                     │ (\u001b[38;5;45mNone\u001b[0m, \u001b[38;5;34m12\u001b[0m, \u001b[38;5;34m8\u001b[0m)          │            \u001b[38;5;34m32\u001b[0m │\n",
       "│ (\u001b[38;5;33mBatchNormalization\u001b[0m)            │                        │               │\n",
       "├─────────────────────────────────┼────────────────────────┼───────────────┤\n",
       "│ squaring (\u001b[38;5;33mLambda\u001b[0m)               │ (\u001b[38;5;45mNone\u001b[0m, \u001b[38;5;34m12\u001b[0m, \u001b[38;5;34m8\u001b[0m)          │             \u001b[38;5;34m0\u001b[0m │\n",
       "├─────────────────────────────────┼────────────────────────┼───────────────┤\n",
       "│ pooling (\u001b[38;5;33mAveragePooling1D\u001b[0m)      │ (\u001b[38;5;45mNone\u001b[0m, \u001b[38;5;34m6\u001b[0m, \u001b[38;5;34m8\u001b[0m)           │             \u001b[38;5;34m0\u001b[0m │\n",
       "├─────────────────────────────────┼────────────────────────┼───────────────┤\n",
       "│ dropout (\u001b[38;5;33mDropout\u001b[0m)               │ (\u001b[38;5;45mNone\u001b[0m, \u001b[38;5;34m6\u001b[0m, \u001b[38;5;34m8\u001b[0m)           │             \u001b[38;5;34m0\u001b[0m │\n",
       "├─────────────────────────────────┼────────────────────────┼───────────────┤\n",
       "│ feature_layer (\u001b[38;5;33mFlatten\u001b[0m)         │ (\u001b[38;5;45mNone\u001b[0m, \u001b[38;5;34m48\u001b[0m)             │             \u001b[38;5;34m0\u001b[0m │\n",
       "├─────────────────────────────────┼────────────────────────┼───────────────┤\n",
       "│ output_layer (\u001b[38;5;33mDense\u001b[0m)            │ (\u001b[38;5;45mNone\u001b[0m, \u001b[38;5;34m1\u001b[0m)              │            \u001b[38;5;34m49\u001b[0m │\n",
       "└─────────────────────────────────┴────────────────────────┴───────────────┘\n"
      ]
     },
     "metadata": {},
     "output_type": "display_data"
    },
    {
     "data": {
      "text/html": [
       "<pre style=\"white-space:pre;overflow-x:auto;line-height:normal;font-family:Menlo,'DejaVu Sans Mono',consolas,'Courier New',monospace\"><span style=\"font-weight: bold\"> Total params: </span><span style=\"color: #00af00; text-decoration-color: #00af00\">113</span> (452.00 B)\n",
       "</pre>\n"
      ],
      "text/plain": [
       "\u001b[1m Total params: \u001b[0m\u001b[38;5;34m113\u001b[0m (452.00 B)\n"
      ]
     },
     "metadata": {},
     "output_type": "display_data"
    },
    {
     "data": {
      "text/html": [
       "<pre style=\"white-space:pre;overflow-x:auto;line-height:normal;font-family:Menlo,'DejaVu Sans Mono',consolas,'Courier New',monospace\"><span style=\"font-weight: bold\"> Trainable params: </span><span style=\"color: #00af00; text-decoration-color: #00af00\">97</span> (388.00 B)\n",
       "</pre>\n"
      ],
      "text/plain": [
       "\u001b[1m Trainable params: \u001b[0m\u001b[38;5;34m97\u001b[0m (388.00 B)\n"
      ]
     },
     "metadata": {},
     "output_type": "display_data"
    },
    {
     "data": {
      "text/html": [
       "<pre style=\"white-space:pre;overflow-x:auto;line-height:normal;font-family:Menlo,'DejaVu Sans Mono',consolas,'Courier New',monospace\"><span style=\"font-weight: bold\"> Non-trainable params: </span><span style=\"color: #00af00; text-decoration-color: #00af00\">16</span> (64.00 B)\n",
       "</pre>\n"
      ],
      "text/plain": [
       "\u001b[1m Non-trainable params: \u001b[0m\u001b[38;5;34m16\u001b[0m (64.00 B)\n"
      ]
     },
     "metadata": {},
     "output_type": "display_data"
    },
    {
     "name": "stdout",
     "output_type": "stream",
     "text": [
      "None\n"
     ]
    }
   ],
   "source": [
    "import tensorflow as tf\n",
    "from tensorflow.keras.models import Model\n",
    "from tensorflow.keras.layers import Conv1D, BatchNormalization, AveragePooling1D, Dropout, Flatten, Dense, Lambda, Input\n",
    "\n",
    "# Define input shape based on CSP features\n",
    "input_layer = Input(shape=(X_train_csp.shape[1], 1), name=\"input_layer\")\n",
    "\n",
    "# Temporal Convolution (1D)\n",
    "x = Conv1D(filters=8, kernel_size=3, padding='same', activation='relu', name=\"conv1\")(input_layer)\n",
    "x = BatchNormalization(name=\"batch_norm1\")(x)\n",
    "\n",
    "# Squaring Activation\n",
    "x = Lambda(lambda x: tf.math.square(x), name=\"squaring\")(x)\n",
    "\n",
    "# Average Pooling (1D)\n",
    "x = AveragePooling1D(pool_size=2, name=\"pooling\")(x)\n",
    "x = Dropout(0.3, name=\"dropout\")(x)\n",
    "\n",
    "# Feature extraction layer\n",
    "feature_layer = Flatten(name=\"feature_layer\")(x)\n",
    "\n",
    "# Fully Connected Layer for classification\n",
    "output_layer = Dense(units=1, activation='sigmoid', name=\"output_layer\")(feature_layer)\n",
    "\n",
    "# Define model\n",
    "model = Model(inputs=input_layer, outputs=output_layer)\n",
    "\n",
    "# Compile the model\n",
    "model.compile(optimizer='adam', loss='binary_crossentropy', metrics=['accuracy'])\n",
    "\n",
    "print(model.summary())\n",
    "\n"
   ]
  },
  {
   "cell_type": "code",
   "execution_count": 98,
   "metadata": {},
   "outputs": [
    {
     "name": "stdout",
     "output_type": "stream",
     "text": [
      "Epoch 1/100\n",
      "\u001b[1m14/14\u001b[0m \u001b[32m━━━━━━━━━━━━━━━━━━━━\u001b[0m\u001b[37m\u001b[0m \u001b[1m1s\u001b[0m 8ms/step - accuracy: 0.5834 - loss: 1.1970 - val_accuracy: 0.4643 - val_loss: 0.7516\n",
      "Epoch 2/100\n",
      "\u001b[1m14/14\u001b[0m \u001b[32m━━━━━━━━━━━━━━━━━━━━\u001b[0m\u001b[37m\u001b[0m \u001b[1m0s\u001b[0m 3ms/step - accuracy: 0.6585 - loss: 0.8881 - val_accuracy: 0.5357 - val_loss: 0.7212\n",
      "Epoch 3/100\n",
      "\u001b[1m14/14\u001b[0m \u001b[32m━━━━━━━━━━━━━━━━━━━━\u001b[0m\u001b[37m\u001b[0m \u001b[1m0s\u001b[0m 2ms/step - accuracy: 0.7254 - loss: 0.7351 - val_accuracy: 0.5714 - val_loss: 0.7112\n",
      "Epoch 4/100\n",
      "\u001b[1m14/14\u001b[0m \u001b[32m━━━━━━━━━━━━━━━━━━━━\u001b[0m\u001b[37m\u001b[0m \u001b[1m0s\u001b[0m 2ms/step - accuracy: 0.6847 - loss: 0.7034 - val_accuracy: 0.5357 - val_loss: 0.7132\n",
      "Epoch 5/100\n",
      "\u001b[1m14/14\u001b[0m \u001b[32m━━━━━━━━━━━━━━━━━━━━\u001b[0m\u001b[37m\u001b[0m \u001b[1m0s\u001b[0m 2ms/step - accuracy: 0.6918 - loss: 0.6152 - val_accuracy: 0.5179 - val_loss: 0.7220\n",
      "Epoch 6/100\n",
      "\u001b[1m14/14\u001b[0m \u001b[32m━━━━━━━━━━━━━━━━━━━━\u001b[0m\u001b[37m\u001b[0m \u001b[1m0s\u001b[0m 2ms/step - accuracy: 0.6864 - loss: 0.6244 - val_accuracy: 0.5357 - val_loss: 0.7335\n",
      "Epoch 7/100\n",
      "\u001b[1m14/14\u001b[0m \u001b[32m━━━━━━━━━━━━━━━━━━━━\u001b[0m\u001b[37m\u001b[0m \u001b[1m0s\u001b[0m 2ms/step - accuracy: 0.6709 - loss: 0.6500 - val_accuracy: 0.5000 - val_loss: 0.7475\n",
      "Epoch 8/100\n",
      "\u001b[1m14/14\u001b[0m \u001b[32m━━━━━━━━━━━━━━━━━━━━\u001b[0m\u001b[37m\u001b[0m \u001b[1m0s\u001b[0m 2ms/step - accuracy: 0.7369 - loss: 0.5388 - val_accuracy: 0.5000 - val_loss: 0.7530\n"
     ]
    },
    {
     "data": {
      "text/plain": [
       "<keras.src.callbacks.history.History at 0x15da69b10>"
      ]
     },
     "execution_count": 98,
     "metadata": {},
     "output_type": "execute_result"
    }
   ],
   "source": [
    "# Train the model\n",
    "early_stopping = tf.keras.callbacks.EarlyStopping(monitor='val_loss', patience=5, restore_best_weights=True)\n",
    "model.fit(X_train_csp, Y_train, epochs=100, batch_size=16, validation_data=(X_val_csp, Y_val), callbacks=[early_stopping])\n"
   ]
  },
  {
   "cell_type": "code",
   "execution_count": 100,
   "metadata": {},
   "outputs": [
    {
     "name": "stdout",
     "output_type": "stream",
     "text": [
      "\u001b[1m7/7\u001b[0m \u001b[32m━━━━━━━━━━━━━━━━━━━━\u001b[0m\u001b[37m\u001b[0m \u001b[1m0s\u001b[0m 5ms/step \n",
      "\u001b[1m4/4\u001b[0m \u001b[32m━━━━━━━━━━━━━━━━━━━━\u001b[0m\u001b[37m\u001b[0m \u001b[1m0s\u001b[0m 3ms/step\n",
      "X_train_features shape: (222, 48)\n",
      "X_test_features shape: (100, 48)\n"
     ]
    }
   ],
   "source": [
    "from tensorflow.keras.models import Model\n",
    "\n",
    "# Define the feature extractor model (extract features from the \"feature_layer\")\n",
    "feature_extractor = Model(inputs=model.input, outputs=model.get_layer(\"feature_layer\").output)\n",
    "\n",
    "# Extract features for CORAL\n",
    "X_train_features = feature_extractor.predict(X_train_csp)\n",
    "X_test_features = feature_extractor.predict(X_test_csp)\n",
    "\n",
    "print(\"X_train_features shape:\", X_train_features.shape)\n",
    "print(\"X_test_features shape:\", X_test_features.shape)\n"
   ]
  },
  {
   "cell_type": "code",
   "execution_count": 101,
   "metadata": {},
   "outputs": [
    {
     "name": "stdout",
     "output_type": "stream",
     "text": [
      "CORAL Adaptation Test Accuracy (SVM): 0.5000\n"
     ]
    }
   ],
   "source": [
    "# Apply CORAL\n",
    "X_test_coral = coral_transform(X_train_features, X_test_features)\n",
    "\n",
    "from sklearn.svm import SVC\n",
    "from sklearn.metrics import accuracy_score\n",
    "\n",
    "# Train SVM on CORAL-aligned train features\n",
    "svm = SVC(kernel=\"linear\")\n",
    "svm.fit(X_train_features, Y_train)\n",
    "\n",
    "# Predict on CORAL-aligned test features\n",
    "Y_pred = svm.predict(X_test_coral)\n",
    "\n",
    "# Compute accuracy\n",
    "coral_accuracy = accuracy_score(Y_test, Y_pred)\n",
    "print(f\"CORAL Adaptation Test Accuracy (SVM): {coral_accuracy:.4f}\")\n"
   ]
  },
  {
   "cell_type": "code",
   "execution_count": 102,
   "metadata": {},
   "outputs": [
    {
     "name": "stdout",
     "output_type": "stream",
     "text": [
      "CORAL Adaptation Test Accuracy (LDA): 0.4900\n"
     ]
    }
   ],
   "source": [
    "from sklearn.discriminant_analysis import LinearDiscriminantAnalysis\n",
    "from sklearn.metrics import accuracy_score\n",
    "\n",
    "X_test_coral = coral_transform(X_train_features, X_test_features)\n",
    "# Train LDA on CORAL-aligned features\n",
    "lda = LinearDiscriminantAnalysis()\n",
    "lda.fit(X_train_features, Y_train)\n",
    "\n",
    "# Predict on CORAL-aligned test features\n",
    "Y_pred_lda = lda.predict(X_test_coral)\n",
    "\n",
    "# Compute accuracy\n",
    "coral_accuracy_lda = accuracy_score(Y_test, Y_pred_lda)\n",
    "print(f\"CORAL Adaptation Test Accuracy (LDA): {coral_accuracy_lda:.4f}\")\n"
   ]
  },
  {
   "cell_type": "code",
   "execution_count": 103,
   "metadata": {},
   "outputs": [
    {
     "data": {
      "image/png": "[encoded data removed]",
      "text/plain": [
       "<Figure size 800x600 with 2 Axes>"
      ]
     },
     "metadata": {},
     "output_type": "display_data"
    },
    {
     "data": {
      "image/png": "[encoded data removed]",
      "text/plain": [
       "<Figure size 800x600 with 2 Axes>"
      ]
     },
     "metadata": {},
     "output_type": "display_data"
    },
    {
     "data": {
      "image/png": "[encoded data removed]",
      "text/plain": [
       "<Figure size 800x600 with 2 Axes>"
      ]
     },
     "metadata": {},
     "output_type": "display_data"
    }
   ],
   "source": [
    "import matplotlib.pyplot as plt\n",
    "import seaborn as sns\n",
    "\n",
    "def plot_cov_matrix(X, title):\n",
    "    cov_matrix = np.cov(X.T)\n",
    "    plt.figure(figsize=(8, 6))\n",
    "    sns.heatmap(cov_matrix, cmap='coolwarm')\n",
    "    plt.title(title)\n",
    "    plt.show()\n",
    "\n",
    "# Plot before CORAL\n",
    "plot_cov_matrix(X_train_features, \"Train Feature Covariance\")\n",
    "plot_cov_matrix(X_test_features, \"Test Feature Covariance (Before CORAL)\")\n",
    "\n",
    "# Apply CORAL\n",
    "X_test_coral = coral_transform(X_train_features, X_test_features)\n",
    "\n",
    "# Plot after CORAL\n",
    "plot_cov_matrix(X_test_coral, \"Test Feature Covariance (After CORAL)\")\n"
   ]
  },
  {
   "cell_type": "code",
   "execution_count": null,
   "metadata": {},
   "outputs": [],
   "source": []
  }
 ],
 "metadata": {
  "kernelspec": {
   "display_name": "earnings_transcript_scraping",
   "language": "python",
   "name": "python3"
  },
  "language_info": {
   "codemirror_mode": {
    "name": "ipython",
    "version": 3
   },
   "file_extension": ".py",
   "mimetype": "text/x-python",
   "name": "python",
   "nbconvert_exporter": "python",
   "pygments_lexer": "ipython3",
   "version": "3.11.7"
  }
 },
 "nbformat": 4,
 "nbformat_minor": 2
}
