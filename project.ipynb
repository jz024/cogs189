{
 "cells": [
  {
   "cell_type": "code",
   "execution_count": 1,
   "metadata": {},
   "outputs": [
    {
     "name": "stdout",
     "output_type": "stream",
     "text": [
      "Requirement already satisfied: numpy in /opt/anaconda3/lib/python3.11/site-packages (1.26.4)\n",
      "Requirement already satisfied: scipy in /opt/anaconda3/lib/python3.11/site-packages (1.11.4)\n",
      "Requirement already satisfied: scikit-learn in /opt/anaconda3/lib/python3.11/site-packages (1.2.2)\n",
      "Collecting mne\n",
      "  Downloading mne-1.9.0-py3-none-any.whl.metadata (20 kB)\n",
      "Requirement already satisfied: joblib>=1.1.1 in /opt/anaconda3/lib/python3.11/site-packages (from scikit-learn) (1.2.0)\n",
      "Requirement already satisfied: threadpoolctl>=2.0.0 in /opt/anaconda3/lib/python3.11/site-packages (from scikit-learn) (2.2.0)\n",
      "Requirement already satisfied: decorator in /opt/anaconda3/lib/python3.11/site-packages (from mne) (5.1.1)\n",
      "Requirement already satisfied: jinja2 in /opt/anaconda3/lib/python3.11/site-packages (from mne) (3.1.3)\n",
      "Requirement already satisfied: lazy-loader>=0.3 in /opt/anaconda3/lib/python3.11/site-packages (from mne) (0.3)\n",
      "Requirement already satisfied: matplotlib>=3.6 in /opt/anaconda3/lib/python3.11/site-packages (from mne) (3.8.0)\n",
      "Requirement already satisfied: packaging in /opt/anaconda3/lib/python3.11/site-packages (from mne) (23.1)\n",
      "Collecting pooch>=1.5 (from mne)\n",
      "  Downloading pooch-1.8.2-py3-none-any.whl.metadata (10 kB)\n",
      "Requirement already satisfied: tqdm in /opt/anaconda3/lib/python3.11/site-packages (from mne) (4.65.0)\n",
      "Requirement already satisfied: contourpy>=1.0.1 in /opt/anaconda3/lib/python3.11/site-packages (from matplotlib>=3.6->mne) (1.2.0)\n",
      "Requirement already satisfied: cycler>=0.10 in /opt/anaconda3/lib/python3.11/site-packages (from matplotlib>=3.6->mne) (0.11.0)\n",
      "Requirement already satisfied: fonttools>=4.22.0 in /opt/anaconda3/lib/python3.11/site-packages (from matplotlib>=3.6->mne) (4.25.0)\n",
      "Requirement already satisfied: kiwisolver>=1.0.1 in /opt/anaconda3/lib/python3.11/site-packages (from matplotlib>=3.6->mne) (1.4.4)\n",
      "Requirement already satisfied: pillow>=6.2.0 in /opt/anaconda3/lib/python3.11/site-packages (from matplotlib>=3.6->mne) (10.2.0)\n",
      "Requirement already satisfied: pyparsing>=2.3.1 in /opt/anaconda3/lib/python3.11/site-packages (from matplotlib>=3.6->mne) (3.0.9)\n",
      "Requirement already satisfied: python-dateutil>=2.7 in /opt/anaconda3/lib/python3.11/site-packages (from matplotlib>=3.6->mne) (2.8.2)\n",
      "Requirement already satisfied: platformdirs>=2.5.0 in /opt/anaconda3/lib/python3.11/site-packages (from pooch>=1.5->mne) (3.10.0)\n",
      "Requirement already satisfied: requests>=2.19.0 in /opt/anaconda3/lib/python3.11/site-packages (from pooch>=1.5->mne) (2.31.0)\n",
      "Requirement already satisfied: MarkupSafe>=2.0 in /opt/anaconda3/lib/python3.11/site-packages (from jinja2->mne) (2.1.3)\n",
      "Requirement already satisfied: six>=1.5 in /opt/anaconda3/lib/python3.11/site-packages (from python-dateutil>=2.7->matplotlib>=3.6->mne) (1.16.0)\n",
      "Requirement already satisfied: charset-normalizer<4,>=2 in /opt/anaconda3/lib/python3.11/site-packages (from requests>=2.19.0->pooch>=1.5->mne) (2.0.4)\n",
      "Requirement already satisfied: idna<4,>=2.5 in /opt/anaconda3/lib/python3.11/site-packages (from requests>=2.19.0->pooch>=1.5->mne) (3.4)\n",
      "Requirement already satisfied: urllib3<3,>=1.21.1 in /opt/anaconda3/lib/python3.11/site-packages (from requests>=2.19.0->pooch>=1.5->mne) (2.0.7)\n",
      "Requirement already satisfied: certifi>=2017.4.17 in /opt/anaconda3/lib/python3.11/site-packages (from requests>=2.19.0->pooch>=1.5->mne) (2024.6.2)\n",
      "Downloading mne-1.9.0-py3-none-any.whl (7.4 MB)\n",
      "\u001b[2K   \u001b[90m━━━━━━━━━━━━━━━━━━━━━━━━━━━━━━━━━━━━━━━━\u001b[0m \u001b[32m7.4/7.4 MB\u001b[0m \u001b[31m36.0 MB/s\u001b[0m eta \u001b[36m0:00:00\u001b[0m00:01\u001b[0m00:01\u001b[0m\n",
      "\u001b[?25hDownloading pooch-1.8.2-py3-none-any.whl (64 kB)\n",
      "\u001b[2K   \u001b[90m━━━━━━━━━━━━━━━━━━━━━━━━━━━━━━━━━━━━━━━━\u001b[0m \u001b[32m64.6/64.6 kB\u001b[0m \u001b[31m9.3 MB/s\u001b[0m eta \u001b[36m0:00:00\u001b[0m\n",
      "\u001b[?25hInstalling collected packages: pooch, mne\n",
      "Successfully installed mne-1.9.0 pooch-1.8.2\n"
     ]
    }
   ],
   "source": [
    "!pip install numpy scipy scikit-learn mne \n"
   ]
  },
  {
   "cell_type": "code",
   "execution_count": 1,
   "metadata": {},
   "outputs": [],
   "source": [
    "import numpy as np\n",
    "from sklearn.model_selection import train_test_split\n",
    "from scipy.signal import butter, lfilter\n",
    "from sklearn.discriminant_analysis import LinearDiscriminantAnalysis\n",
    "from sklearn.metrics import accuracy_score, confusion_matrix"
   ]
  },
  {
   "cell_type": "code",
   "execution_count": 2,
   "metadata": {},
   "outputs": [
    {
     "name": "stdout",
     "output_type": "stream",
     "text": [
      "Raw shape of train_cnt: (17792, 3000)\n"
     ]
    }
   ],
   "source": [
    "train_cnt_file = \"train/Competition_train_cnt.txt\"\n",
    "train_lab_file = \"train/Competition_train_lab.txt\"\n",
    "\n",
    "train_cnt = np.loadtxt(train_cnt_file)\n",
    "Y_train = np.loadtxt(train_lab_file)\n",
    "\n",
    "print(\"Raw shape of train_cnt:\", train_cnt.shape)\n"
   ]
  },
  {
   "cell_type": "code",
   "execution_count": 3,
   "metadata": {},
   "outputs": [
    {
     "name": "stdout",
     "output_type": "stream",
     "text": [
      "X_train final shape: (278, 64, 3000)\n",
      "Y_train shape: (278,)\n"
     ]
    }
   ],
   "source": [
    "n_trials_train = 278\n",
    "n_channels = 64\n",
    "n_samples = 3000\n",
    "\n",
    "X_train = train_cnt.reshape(n_trials_train, n_channels, n_samples)\n",
    "\n",
    "print(\"X_train final shape:\", X_train.shape)\n",
    "print(\"Y_train shape:\", Y_train.shape)"
   ]
  },
  {
   "cell_type": "code",
   "execution_count": 4,
   "metadata": {},
   "outputs": [
    {
     "name": "stdout",
     "output_type": "stream",
     "text": [
      "Raw shape of test_cnt: (6400, 3000)\n"
     ]
    }
   ],
   "source": [
    "test_file = \"test.txt\"\n",
    "test_label_file = \"test_label.txt\"\n",
    "\n",
    "test_cnt = np.loadtxt(test_file)\n",
    "Y_test = np.loadtxt(test_label_file)\n",
    "\n",
    "print(\"Raw shape of test_cnt:\", test_cnt.shape)"
   ]
  },
  {
   "cell_type": "code",
   "execution_count": 5,
   "metadata": {},
   "outputs": [
    {
     "name": "stdout",
     "output_type": "stream",
     "text": [
      "test final shape: (100, 64, 3000)\n"
     ]
    }
   ],
   "source": [
    "n_trials_test = 100\n",
    "X_test = test_cnt.reshape(n_trials_test, n_channels, n_samples)\n",
    "\n",
    "print(\"test final shape:\", X_test.shape)"
   ]
  },
  {
   "cell_type": "code",
   "execution_count": 6,
   "metadata": {},
   "outputs": [
    {
     "name": "stdout",
     "output_type": "stream",
     "text": [
      "Train Set Shape: (222, 64, 3000) (222,)\n",
      "Validation Set Shape: (56, 64, 3000) (56,)\n"
     ]
    }
   ],
   "source": [
    "X_train, X_val, Y_train, Y_val = train_test_split(X_train, Y_train, test_size=0.2, random_state=42)\n",
    "\n",
    "print(\"Train Set Shape:\", X_train.shape, Y_train.shape)\n",
    "print(\"Validation Set Shape:\", X_val.shape, Y_val.shape)"
   ]
  },
  {
   "cell_type": "code",
   "execution_count": 7,
   "metadata": {},
   "outputs": [],
   "source": [
    "def bandpass_filter(data, lowcut=8, highcut=30, fs=1000, order=5):\n",
    "    \"\"\"\n",
    "    Apply a bandpass filter to the input data.\n",
    "\n",
    "    Parameters:\n",
    "        data (ndarray): EEG/ECoG data of shape (trials, channels, samples)\n",
    "        lowcut (float): Lower cutoff frequency (default: 8 Hz)\n",
    "        highcut (float): Upper cutoff frequency (default: 30 Hz)\n",
    "        fs (int): Sampling frequency (default: 1000 Hz)\n",
    "        order (int): Order of the filter (default: 5)\n",
    "\n",
    "    Returns:\n",
    "        ndarray: Filtered data (same shape as input)\n",
    "    \"\"\"\n",
    "    nyquist = 0.5 * fs\n",
    "    low = lowcut / nyquist\n",
    "    high = highcut / nyquist\n",
    "    b, a = butter(order, [low, high], btype='band')\n",
    "\n",
    "    filtered_data = lfilter(b, a, data, axis=-1)\n",
    "    return filtered_data\n"
   ]
  },
  {
   "cell_type": "code",
   "execution_count": 8,
   "metadata": {},
   "outputs": [],
   "source": [
    "X_train_filt = bandpass_filter(X_train)\n",
    "X_val_filt = bandpass_filter(X_val)\n",
    "X_test_filt = bandpass_filter(X_test)"
   ]
  },
  {
   "cell_type": "code",
   "execution_count": 9,
   "metadata": {},
   "outputs": [],
   "source": [
    "def compute_covariance(trial_data):\n",
    "    \"\"\"\n",
    "    Compute the covariance matrix for a given trial.\n",
    "    \n",
    "    Parameters:\n",
    "        trial_data (ndarray): Shape (channels, samples)\n",
    "    \n",
    "    Returns:\n",
    "        ndarray: Covariance matrix (channels x channels)\n",
    "    \"\"\"\n",
    "    return np.cov(trial_data)\n",
    "\n",
    "def csp_fit(X, y, n_components=3):\n",
    "    \"\"\"\n",
    "    Fit CSP spatial filters.\n",
    "\n",
    "    Parameters:\n",
    "        X (ndarray): Shape (trials, channels, samples)\n",
    "        y (ndarray): Labels (-1 or 1), shape (trials,)\n",
    "        n_components (int): Number of CSP components to retain per class\n",
    "\n",
    "    Returns:\n",
    "        ndarray: CSP spatial filters (channels, 2 * n_components)\n",
    "    \"\"\"\n",
    "\n",
    "    X_class1 = X[y == -1]\n",
    "    X_class2 = X[y == 1]\n",
    "\n",
    "    cov_class1 = np.mean([compute_covariance(x) for x in X_class1], axis=0)\n",
    "    cov_class2 = np.mean([compute_covariance(x) for x in X_class2], axis=0)\n",
    "\n",
    "    from scipy.linalg import eigh\n",
    "    w, v = eigh(cov_class1, cov_class2)\n",
    "\n",
    "    idx = np.argsort(w)[::-1]\n",
    "    v = v[:, idx]\n",
    "    filters = np.hstack([v[:, :n_components], v[:, -n_components:]])\n",
    "    \n",
    "    return filters\n",
    "\n",
    "def csp_transform(X, filters):\n",
    "    \"\"\"\n",
    "    Apply CSP transformation to extract log-variance features.\n",
    "\n",
    "    Parameters:\n",
    "        X (ndarray): Shape (trials, channels, samples)\n",
    "        filters (ndarray): CSP spatial filters (channels, 2*n_components)\n",
    "\n",
    "    Returns:\n",
    "        ndarray: CSP features (trials, 2*n_components)\n",
    "    \"\"\"\n",
    "    n_trials, _, _ = X.shape\n",
    "    n_filters = filters.shape[1]\n",
    "    features = np.zeros((n_trials, n_filters))\n",
    "\n",
    "    for i in range(n_trials):\n",
    "        projected = filters.T @ X[i] \n",
    "        var = np.var(projected, axis=1)\n",
    "        features[i, :] = np.log(var)\n",
    "\n",
    "    return features\n"
   ]
  },
  {
   "cell_type": "code",
   "execution_count": 10,
   "metadata": {},
   "outputs": [
    {
     "name": "stdout",
     "output_type": "stream",
     "text": [
      "Validation Accuracy: 0.8929\n"
     ]
    }
   ],
   "source": [
    "csp_filters = csp_fit(X_train_filt, Y_train, n_components=3)\n",
    "\n",
    "X_train_csp = csp_transform(X_train_filt, csp_filters)\n",
    "X_val_csp = csp_transform(X_val_filt, csp_filters)\n",
    "X_test_csp = csp_transform(X_test_filt, csp_filters)\n",
    "\n",
    "clf = LinearDiscriminantAnalysis()\n",
    "clf.fit(X_train_csp, Y_train)\n",
    "\n",
    "pred_val = clf.predict(X_val_csp)\n",
    "acc_val = accuracy_score(Y_val, pred_val)\n",
    "print(f\"Validation Accuracy: {acc_val:.4f}\")\n"
   ]
  },
  {
   "cell_type": "code",
   "execution_count": 11,
   "metadata": {},
   "outputs": [
    {
     "name": "stdout",
     "output_type": "stream",
     "text": [
      "No Adaptation Test Accuracy: 0.7600\n",
      "Confusion Matrix (No Adaptation):\n",
      "[[50  0]\n",
      " [24 26]]\n"
     ]
    }
   ],
   "source": [
    "pred_noadapt = clf.predict(X_test_csp)\n",
    "\n",
    "acc_noadapt = accuracy_score(Y_test, pred_noadapt)\n",
    "print(f\"No Adaptation Test Accuracy: {acc_noadapt:.4f}\")\n",
    "\n",
    "print(\"Confusion Matrix (No Adaptation):\")\n",
    "print(confusion_matrix(Y_test, pred_noadapt))\n"
   ]
  },
  {
   "cell_type": "code",
   "execution_count": null,
   "metadata": {},
   "outputs": [],
   "source": []
  }
 ],
 "metadata": {
  "kernelspec": {
   "display_name": "Python 3",
   "language": "python",
   "name": "python3"
  },
  "language_info": {
   "codemirror_mode": {
    "name": "ipython",
    "version": 3
   },
   "file_extension": ".py",
   "mimetype": "text/x-python",
   "name": "python",
   "nbconvert_exporter": "python",
   "pygments_lexer": "ipython3",
   "version": "3.11.6"
  }
 },
 "nbformat": 4,
 "nbformat_minor": 2
}
